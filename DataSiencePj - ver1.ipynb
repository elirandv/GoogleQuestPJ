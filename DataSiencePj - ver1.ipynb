{
 "cells": [
  {
   "cell_type": "code",
   "execution_count": 15,
   "metadata": {
    "_cell_guid": "b1076dfc-b9ad-4769-8c92-a6c4dae69d19",
    "_uuid": "8f2839f25d086af736a60e9eeb907d3b93b6e0e5"
   },
   "outputs": [],
   "source": [
    "import pandas as pd\n",
    "import numpy as np\n",
    "from sklearn.model_selection import GroupKFold\n",
    "import matplotlib.pyplot as plt\n",
    "from tqdm.notebook import tqdm\n",
    "import tensorflow_hub as hub\n",
    "import tensorflow as tf\n",
    "from bert_tokenization import bertTokenization as tokenization\n",
    "import tensorflow.keras.backend as K\n",
    "import gc\n",
    "import os\n",
    "from scipy.stats import spearmanr\n",
    "from math import floor, ceil\n",
    "import seaborn as sns\n",
    "\n",
    "np.set_printoptions(suppress=True)"
   ]
  },
  {
   "cell_type": "markdown",
   "metadata": {},
   "source": [
    "**lable selected for our project:** \n",
    "answer_relevance prediction"
   ]
  },
  {
   "cell_type": "code",
   "execution_count": 36,
   "metadata": {},
   "outputs": [
    {
     "name": "stdout",
     "output_type": "stream",
     "text": [
      "train shape = (4, 41)\n",
      "test shape = (4, 11)\n"
     ]
    }
   ],
   "source": [
    "PATH = 'input/Data/'\n",
    "BERT_PATH = 'input/bert-base-from-tfhub/bert_en_uncased_L-12_H-768_A-12'\n",
    "tokenizer = tokenization.FullTokenizer(BERT_PATH+'/assets/vocab.txt', True)\n",
    "MAX_SEQUENCE_LENGTH = 512\n",
    "\n",
    "df_train = pd.read_csv(PATH+'train.csv')\n",
    "df_test = pd.read_csv(PATH+'test.csv')\n",
    "df_sub = pd.read_csv(PATH+'sample_submission.csv')\n",
    "\n",
    "##remove later!!!\n",
    "df_train = df_train[:4]\n",
    "df_test = df_test[:4]\n",
    "df_sub = df_sub[:4]\n",
    "\n",
    "print('train shape =', df_train.shape)\n",
    "print('test shape =', df_test.shape)"
   ]
  },
  {
   "cell_type": "markdown",
   "metadata": {},
   "source": [
    "**DATA engineering:**\n"
   ]
  },
  {
   "cell_type": "markdown",
   "metadata": {},
   "source": [
    "1.NaN handling"
   ]
  },
  {
   "cell_type": "code",
   "execution_count": 37,
   "metadata": {},
   "outputs": [
    {
     "name": "stdout",
     "output_type": "stream",
     "text": [
      "qa_id 0.0\n",
      "question_title 0.0\n",
      "question_body 0.0\n",
      "question_user_name 0.0\n",
      "question_user_page 0.0\n",
      "answer 0.0\n",
      "answer_user_name 0.0\n",
      "answer_user_page 0.0\n",
      "url 0.0\n",
      "category 0.0\n",
      "host 0.0\n",
      "question_asker_intent_understanding 0.0\n",
      "question_body_critical 0.0\n",
      "question_conversational 0.0\n",
      "question_expect_short_answer 0.0\n",
      "question_fact_seeking 0.0\n",
      "question_has_commonly_accepted_answer 0.0\n",
      "question_interestingness_others 0.0\n",
      "question_interestingness_self 0.0\n",
      "question_multi_intent 0.0\n",
      "question_not_really_a_question 0.0\n",
      "question_opinion_seeking 0.0\n",
      "question_type_choice 0.0\n",
      "question_type_compare 0.0\n",
      "question_type_consequence 0.0\n",
      "question_type_definition 0.0\n",
      "question_type_entity 0.0\n",
      "question_type_instructions 0.0\n",
      "question_type_procedure 0.0\n",
      "question_type_reason_explanation 0.0\n",
      "question_type_spelling 0.0\n",
      "question_well_written 0.0\n",
      "answer_helpful 0.0\n",
      "answer_level_of_information 0.0\n",
      "answer_plausible 0.0\n",
      "answer_relevance 0.0\n",
      "answer_satisfaction 0.0\n",
      "answer_type_instructions 0.0\n",
      "answer_type_procedure 0.0\n",
      "answer_type_reason_explanation 0.0\n",
      "answer_well_written 0.0\n"
     ]
    }
   ],
   "source": [
    "count = 0\n",
    "for var in df_train.head(1):\n",
    "    for elem in df_train[var]:\n",
    "        if elem == 'NaN' :\n",
    "            count +=1    \n",
    "    print(var , count/df_train.shape[0])\n",
    "    count = 0\n"
   ]
  },
  {
   "cell_type": "markdown",
   "metadata": {},
   "source": [
    "2.Extraction of 'host' and 'category' to 'sub_category'"
   ]
  },
  {
   "cell_type": "code",
   "execution_count": 38,
   "metadata": {},
   "outputs": [
    {
     "name": "stderr",
     "output_type": "stream",
     "text": [
      "C:\\Users\\elirane\\Anaconda3\\lib\\site-packages\\seaborn\\categorical.py:1428: FutureWarning: remove_na is deprecated and is a private function. Do not use.\n",
      "  stat_data = remove_na(group_data)\n"
     ]
    },
    {
     "data": {
      "text/plain": [
       "<matplotlib.axes._subplots.AxesSubplot at 0x201e88959b0>"
      ]
     },
     "execution_count": 38,
     "metadata": {},
     "output_type": "execute_result"
    },
    {
     "data": {
      "image/png": "[encoded data removed]",
      "text/plain": [
       "<matplotlib.figure.Figure at 0x201e89f00b8>"
      ]
     },
     "metadata": {},
     "output_type": "display_data"
    }
   ],
   "source": [
    "%matplotlib inline\n",
    "sns.countplot(x='category', data=df_train)"
   ]
  },
  {
   "cell_type": "code",
   "execution_count": 39,
   "metadata": {
    "collapsed": true
   },
   "outputs": [],
   "source": [
    "df_train['host']=df_train['host'].apply(lambda x:(x.replace(x ,x.split('.')[0])))\n",
    "df_test['host']=df_test['host'].apply(lambda x:(x.replace(x ,x.split('.')[0])))"
   ]
  },
  {
   "cell_type": "code",
   "execution_count": 40,
   "metadata": {
    "collapsed": true
   },
   "outputs": [],
   "source": [
    "df_train.columns = df_train.columns.str.replace('host', 'sub_category')\n",
    "df_test.columns = df_test.columns.str.replace('host', 'sub_category')"
   ]
  },
  {
   "cell_type": "code",
   "execution_count": 41,
   "metadata": {
    "collapsed": true
   },
   "outputs": [],
   "source": [
    "#we trying to figure out if category is redundent due to the sub category\n",
    "arr_sub_category = {}\n",
    "for sub in df_train['sub_category'].unique():\n",
    "    data = df_train[df_train['sub_category'] == sub]\n",
    "    arr = df_train[df_train['sub_category'] == sub]['category'].unique()\n",
    "    if len(arr) > 1:\n",
    "        arr_sub_category[sub] = arr\n",
    "        print(sub, arr)\n",
    "        #correlation between two features"
   ]
  },
  {
   "cell_type": "code",
   "execution_count": 42,
   "metadata": {
    "collapsed": true
   },
   "outputs": [],
   "source": [
    "# split each sub_category found to be multiplied to more than one category \n",
    "#(in order to drop the category feature without loosing any important info)\n",
    "for key in arr_sub_category.keys():\n",
    "    for val in arr_sub_category[key]:\n",
    "        df_train[(df_train['sub_category'] == key) & (df_train['category'] == val)] = df_train[(df_train['sub_category'] == key) & (df_train['category'] == val)].apply(lambda x :x.replace(key, key+'_'+val))\n"
   ]
  },
  {
   "cell_type": "code",
   "execution_count": 43,
   "metadata": {},
   "outputs": [
    {
     "name": "stdout",
     "output_type": "stream",
     "text": [
      "['photo' 'rpg' 'electronics' 'judaism']\n"
     ]
    }
   ],
   "source": [
    "# checking\n",
    "print(df_train['sub_category'].unique())"
   ]
  },
  {
   "cell_type": "markdown",
   "metadata": {},
   "source": [
    "3.features plots"
   ]
  },
  {
   "cell_type": "code",
   "execution_count": 44,
   "metadata": {},
   "outputs": [
    {
     "name": "stderr",
     "output_type": "stream",
     "text": [
      "C:\\Users\\elirane\\Anaconda3\\lib\\site-packages\\seaborn\\categorical.py:1428: FutureWarning: remove_na is deprecated and is a private function. Do not use.\n",
      "  stat_data = remove_na(group_data)\n"
     ]
    },
    {
     "data": {
      "text/plain": [
       "<matplotlib.axes._subplots.AxesSubplot at 0x201c3d8fef0>"
      ]
     },
     "execution_count": 44,
     "metadata": {},
     "output_type": "execute_result"
    },
    {
     "data": {
      "image/png": "[encoded data removed]",
      "text/plain": [
       "<matplotlib.figure.Figure at 0x201c239e748>"
      ]
     },
     "metadata": {},
     "output_type": "display_data"
    }
   ],
   "source": [
    "%matplotlib inline\n",
    "sns.countplot(x='sub_category', data=df_train)"
   ]
  },
  {
   "cell_type": "markdown",
   "metadata": {},
   "source": [
    "4.correlation sorted list between features"
   ]
  },
  {
   "cell_type": "code",
   "execution_count": 45,
   "metadata": {
    "collapsed": true
   },
   "outputs": [],
   "source": [
    " def corrank(X):## to think about relevant correlations (sub_c and lable?, is text coor is relevant?)\n",
    "        import itertools\n",
    "        dff = pd.DataFrame([[(i,j),X.corr().loc[i,j]] for i,j in list(itertools.combinations(X.corr(method = 'spearman'), 2))],columns=['pairs','corr'])    \n",
    "        print(dff.sort_values(by='corr',ascending=False))"
   ]
  },
  {
   "cell_type": "code",
   "execution_count": 46,
   "metadata": {},
   "outputs": [
    {
     "name": "stdout",
     "output_type": "stream",
     "text": [
      "                                                 pairs      corr\n",
      "230  (question_interestingness_self, answer_type_in...  1.000000\n",
      "140  (question_fact_seeking, question_has_commonly_...  1.000000\n",
      "313  (question_type_compare, question_type_definition)  1.000000\n",
      "396   (question_type_procedure, answer_type_procedure)  1.000000\n",
      "458         (answer_satisfaction, answer_well_written)  1.000000\n",
      "192  (question_interestingness_others, question_opi...  0.997509\n",
      "138  (question_expect_short_answer, answer_type_rea...  0.984732\n",
      "380     (question_type_instructions, answer_plausible)  0.962250\n",
      "420            (question_well_written, answer_helpful)  0.956183\n",
      "3                (qa_id, question_expect_short_answer)  0.943880\n",
      "214  (question_interestingness_self, question_opini...  0.942809\n",
      "163  (question_fact_seeking, answer_type_reason_exp...  0.942809\n",
      "290  (question_opinion_seeking, answer_type_instruc...  0.942809\n",
      "187  (question_has_commonly_accepted_answer, answer...  0.942809\n",
      "189  (question_interestingness_others, question_int...  0.916949\n",
      "208  (question_interestingness_others, answer_type_...  0.916949\n",
      "28             (qa_id, answer_type_reason_explanation)  0.912871\n",
      "243  (question_multi_intent, question_type_reason_e...  0.904534\n",
      "225    (question_interestingness_self, answer_helpful)  0.878310\n",
      "433         (answer_helpful, answer_type_instructions)  0.878310\n",
      "114  (question_expect_short_answer, question_fact_s...  0.870388\n",
      "115  (question_expect_short_answer, question_has_co...  0.870388\n",
      "237     (question_multi_intent, question_type_compare)  0.870388\n",
      "239  (question_multi_intent, question_type_definition)  0.870388\n",
      "198  (question_interestingness_others, question_typ...  0.855186\n",
      "65     (question_body_critical, question_multi_intent)  0.852803\n",
      "50   (question_asker_intent_understanding, answer_h...  0.845154\n",
      "437    (answer_level_of_information, answer_plausible)  0.838870\n",
      "205  (question_interestingness_others, answer_plaus...  0.822903\n",
      "224  (question_interestingness_self, question_well_...  0.816497\n",
      "..                                                 ...       ...\n",
      "344   (question_type_consequence, answer_well_written)       NaN\n",
      "345   (question_type_definition, question_type_entity)       NaN\n",
      "349  (question_type_definition, question_type_spell...       NaN\n",
      "360  (question_type_entity, question_type_instructi...       NaN\n",
      "361    (question_type_entity, question_type_procedure)       NaN\n",
      "362  (question_type_entity, question_type_reason_ex...       NaN\n",
      "363     (question_type_entity, question_type_spelling)       NaN\n",
      "364      (question_type_entity, question_well_written)       NaN\n",
      "365             (question_type_entity, answer_helpful)       NaN\n",
      "366  (question_type_entity, answer_level_of_informa...       NaN\n",
      "367           (question_type_entity, answer_plausible)       NaN\n",
      "368           (question_type_entity, answer_relevance)       NaN\n",
      "369        (question_type_entity, answer_satisfaction)       NaN\n",
      "370   (question_type_entity, answer_type_instructions)       NaN\n",
      "371      (question_type_entity, answer_type_procedure)       NaN\n",
      "372  (question_type_entity, answer_type_reason_expl...       NaN\n",
      "373        (question_type_entity, answer_well_written)       NaN\n",
      "376  (question_type_instructions, question_type_spe...       NaN\n",
      "388  (question_type_procedure, question_type_spelling)       NaN\n",
      "399  (question_type_reason_explanation, question_ty...       NaN\n",
      "410    (question_type_spelling, question_well_written)       NaN\n",
      "411           (question_type_spelling, answer_helpful)       NaN\n",
      "412  (question_type_spelling, answer_level_of_infor...       NaN\n",
      "413         (question_type_spelling, answer_plausible)       NaN\n",
      "414         (question_type_spelling, answer_relevance)       NaN\n",
      "415      (question_type_spelling, answer_satisfaction)       NaN\n",
      "416  (question_type_spelling, answer_type_instructi...       NaN\n",
      "417    (question_type_spelling, answer_type_procedure)       NaN\n",
      "418  (question_type_spelling, answer_type_reason_ex...       NaN\n",
      "419      (question_type_spelling, answer_well_written)       NaN\n",
      "\n",
      "[465 rows x 2 columns]\n"
     ]
    }
   ],
   "source": [
    "corrank(df_train)"
   ]
  },
  {
   "cell_type": "markdown",
   "metadata": {},
   "source": [
    "**5.tokenization?**"
   ]
  },
  {
   "cell_type": "markdown",
   "metadata": {},
   "source": [
    "6.**Categorizing questions**\n",
    "#HowTo - instructions (looking for actions in the answer)\n",
    "#Why \n",
    "#What / which kind of - classification\n",
    "#what is better - comparison\n",
    "#when / how often - time\n",
    "#what/ how many/ how much - quantative\n",
    "#where - places\n",
    "#who / whom - person\n",
    "#how does / how are - comprehension\n",
    "#can/ could - capability\n",
    "#should /would you/ do you want / is, are, am / does- Yes/No questions, willing\n",
    "#aren't you? wasn't it? - tag questions (in YES/NO)"
   ]
  },
  {
   "cell_type": "code",
   "execution_count": 47,
   "metadata": {},
   "outputs": [
    {
     "name": "stdout",
     "output_type": "stream",
     "text": [
      "                                       question num\n",
      "0         Can an affidavit be used in Beit Din?  10\n",
      "1    How can I write HTML and send as an email?  15\n",
      "2       How do I remove a Facebook app request?  14\n",
      "3          How do you grapple in Dead Rising 3?   1\n",
      "4  How do you make a binary image in Photoshop?   1\n"
     ]
    },
    {
     "name": "stderr",
     "output_type": "stream",
     "text": [
      "DEBUG:adam_qas.adam_script:WH :  | WH-POS :  | WH-NBOR-POS :  | Root-POS : VBN\n",
      "DEBUG:adam_qas.adam_script:Union Columns: 66\n",
      "DEBUG:adam_qas.adam_script:Training data: (5365, 66)\n",
      "DEBUG:adam_qas.adam_script:Target data: (1, 66)\n",
      "DEBUG:adam_qas.adam_script:Classifier: ['ABBR' 'DESC' 'ENTY' 'HUM' 'LOC' 'NUM']\n",
      "INFO:__main__:Question Class: ['HUM']\n",
      "DEBUG:qas.feature_extractor:Compound Noun:affidavit DEP nsubjpass\n",
      "DEBUG:qas.feature_extractor:Compound Noun:Din DEP pobj\n",
      "INFO:__main__:Question Features: ['affidavit', 'Beit Din', 'use']\n",
      "INFO:__main__:Query: [{Features: ['affidavit', 'Beit Din', 'use'] ,Conjunction: [] ,Negations: [] ,Marker: []}]\n",
      "DEBUG:adam_qas.adam_script:WH : How | WH-POS : WRB | WH-NBOR-POS : MD | Root-POS : VB\n",
      "DEBUG:adam_qas.adam_script:Union Columns: 63\n",
      "DEBUG:adam_qas.adam_script:Training data: (5365, 63)\n",
      "DEBUG:adam_qas.adam_script:Target data: (1, 63)\n",
      "DEBUG:adam_qas.adam_script:Classifier: ['ABBR' 'DESC' 'ENTY' 'HUM' 'LOC' 'NUM']\n",
      "INFO:__main__:Question Class: ['DESC']\n",
      "DEBUG:qas.feature_extractor:Compound Noun:HTML DEP dobj\n",
      "DEBUG:qas.feature_extractor:Compound Noun:email DEP pobj\n",
      "INFO:__main__:Question Features: ['HTML', 'email', 'write']\n",
      "DEBUG:qas.query_const:Conjunction: `and` at 5\n",
      "DEBUG:qas.query_const:Conjuncting: ['write', 'send']\n",
      "INFO:__main__:Query: [{Features: ['HTML', 'email', 'write'] ,Conjunction: [['write', 'send'], 'and'] ,Negations: [] ,Marker: []}]\n",
      "DEBUG:adam_qas.adam_script:WH : How | WH-POS : WRB | WH-NBOR-POS : VBP | Root-POS : VB\n",
      "DEBUG:adam_qas.adam_script:Union Columns: 63\n",
      "DEBUG:adam_qas.adam_script:Training data: (5365, 63)\n",
      "DEBUG:adam_qas.adam_script:Target data: (1, 63)\n",
      "DEBUG:adam_qas.adam_script:Classifier: ['ABBR' 'DESC' 'ENTY' 'HUM' 'LOC' 'NUM']\n",
      "INFO:__main__:Question Class: ['DESC']\n",
      "DEBUG:qas.feature_extractor:Compound Noun:request DEP dobj\n",
      "INFO:__main__:Question Features: ['Facebook app request', 'remove']\n",
      "INFO:__main__:Query: [{Features: ['Facebook app request', 'remove'] ,Conjunction: [] ,Negations: [] ,Marker: []}]\n",
      "DEBUG:adam_qas.adam_script:WH : How | WH-POS : WRB | WH-NBOR-POS : VBP | Root-POS : VB\n",
      "DEBUG:adam_qas.adam_script:Union Columns: 63\n",
      "DEBUG:adam_qas.adam_script:Training data: (5365, 63)\n",
      "DEBUG:adam_qas.adam_script:Target data: (1, 63)\n",
      "DEBUG:adam_qas.adam_script:Classifier: ['ABBR' 'DESC' 'ENTY' 'HUM' 'LOC' 'NUM']\n",
      "INFO:__main__:Question Class: ['DESC']\n",
      "INFO:__main__:Question Features: ['3', 'grapple']\n",
      "INFO:__main__:Query: [{Features: ['3', 'grapple'] ,Conjunction: [] ,Negations: [] ,Marker: []}]\n",
      "DEBUG:adam_qas.adam_script:WH : How | WH-POS : WRB | WH-NBOR-POS : VBP | Root-POS : VB\n",
      "DEBUG:adam_qas.adam_script:Union Columns: 63\n",
      "DEBUG:adam_qas.adam_script:Training data: (5365, 63)\n",
      "DEBUG:adam_qas.adam_script:Target data: (1, 63)\n",
      "DEBUG:adam_qas.adam_script:Classifier: ['ABBR' 'DESC' 'ENTY' 'HUM' 'LOC' 'NUM']\n",
      "INFO:__main__:Question Class: ['DESC']\n",
      "DEBUG:qas.feature_extractor:Compound Noun:image DEP dobj\n",
      "DEBUG:qas.feature_extractor:Compound Noun:Photoshop DEP pobj\n",
      "INFO:__main__:Question Features: ['image', 'Photoshop', 'make']\n",
      "INFO:__main__:Query: [{Features: ['image', 'Photoshop', 'make'] ,Conjunction: [] ,Negations: [] ,Marker: []}]\n"
     ]
    },
    {
     "name": "stdout",
     "output_type": "stream",
     "text": [
      "  q_class              q_keywords  \\\n",
      "0   [HUM]  affidavit,Beit Din,use   \n",
      "1  [DESC]        HTML,email,write   \n",
      "\n",
      "                                               quary  \n",
      "0  [{Features: ['affidavit', 'Beit Din', 'use'] ,...  \n",
      "1  [{Features: ['HTML', 'email', 'write'] ,Conjun...  \n",
      "                                       question num\n",
      "0         Can an affidavit be used in Beit Din?  10\n",
      "1    How can I write HTML and send as an email?  15\n",
      "2       How do I remove a Facebook app request?  14\n",
      "3          How do you grapple in Dead Rising 3?   1\n",
      "4  How do you make a binary image in Photoshop?   1\n"
     ]
    }
   ],
   "source": [
    "data_a = np.array([['Can an affidavit be used in Beit Din?', 10], ['How can I write HTML and send as an email?', 15], ['How do I remove a Facebook app request?', 14], ['How do you grapple in Dead Rising 3?', 1], ['How do you make a binary image in Photoshop?', 1]]) \n",
    "df_a = pd.DataFrame(data_a)\n",
    "df_a.columns = [\"question\", \"num\"]\n",
    "print(df_a)\n",
    "\n",
    "from adam_qas import adam_script as adam\n",
    "dfOut = pd.DataFrame(np.array([[\"\",\"\",\"\"]]))\n",
    "dfOut.columns = [\"q_class\",\"q_keywords\",\"quary\"]\n",
    "dfOut = dfOut[:-1]\n",
    "new_features = adam.activate(df_a['question'], dfOut)\n",
    "print(new_features.head(2))\n",
    "df_a.join(new_features)\n",
    "print(df_a.head(5))"
   ]
  },
  {
   "cell_type": "code",
   "execution_count": 48,
   "metadata": {
    "scrolled": true
   },
   "outputs": [
    {
     "name": "stdout",
     "output_type": "stream",
     "text": [
      "                                       question num\n",
      "0         Can an affidavit be used in Beit Din?  10\n",
      "1    How can I write HTML and send as an email?  15\n",
      "2       How do I remove a Facebook app request?  14\n",
      "3          How do you grapple in Dead Rising 3?   1\n",
      "4  How do you make a binary image in Photoshop?   1\n"
     ]
    }
   ],
   "source": []
  },
  {
   "cell_type": "markdown",
   "metadata": {},
   "source": [
    "#### Calling adam's algorithem to produce new features "
   ]
  },
  {
   "cell_type": "code",
   "execution_count": 51,
   "metadata": {
    "scrolled": true
   },
   "outputs": [
    {
     "name": "stderr",
     "output_type": "stream",
     "text": [
      "DEBUG:adam_qas.adam_script:WH : when | WH-POS : WRB | WH-NBOR-POS : VBG | Root-POS : VBG\n",
      "DEBUG:adam_qas.adam_script:Union Columns: 63\n",
      "DEBUG:adam_qas.adam_script:Training data: (5365, 63)\n",
      "DEBUG:adam_qas.adam_script:Target data: (1, 63)\n",
      "DEBUG:adam_qas.adam_script:Classifier: ['ABBR' 'DESC' 'ENTY' 'HUM' 'LOC' 'NUM']\n",
      "INFO:__main__:Question Class: ['DESC']\n",
      "DEBUG:qas.feature_extractor:Compound Noun:tubes DEP dobj\n",
      "DEBUG:qas.feature_extractor:Compound Noun:lens DEP conj\n",
      "INFO:__main__:Question Features: ['extension tubes', 'lens', 'lose']\n",
      "DEBUG:qas.query_const:Conjunction: `of` at 9\n",
      "DEBUG:qas.query_const:Conjuncting: ['tubes', 'lens']\n",
      "INFO:__main__:Query: [{Features: ['extension tubes', 'lens', 'lose'] ,Conjunction: [['tubes', 'lens'], 'of'] ,Negations: [] ,Marker: []}]\n",
      "DEBUG:adam_qas.adam_script:WH : What | WH-POS : WP | WH-NBOR-POS : VBZ | Root-POS : VBZ\n",
      "DEBUG:adam_qas.adam_script:Union Columns: 63\n",
      "DEBUG:adam_qas.adam_script:Training data: (5365, 63)\n",
      "DEBUG:adam_qas.adam_script:Target data: (1, 63)\n",
      "DEBUG:adam_qas.adam_script:Classifier: ['ABBR' 'DESC' 'ENTY' 'HUM' 'LOC' 'NUM']\n",
      "INFO:__main__:Question Class: ['DESC']\n",
      "DEBUG:qas.feature_extractor:Compound Noun:distinction DEP nsubj\n",
      "DEBUG:qas.feature_extractor:Compound Noun:city DEP pobj\n",
      "DEBUG:qas.feature_extractor:Compound Noun:sprawl DEP nmod\n",
      "DEBUG:qas.feature_extractor:Compound Noun:metroplex DEP conj\n",
      "DEBUG:qas.feature_extractor:Compound Noun:downtown DEP pobj\n",
      "DEBUG:qas.feature_extractor:Compound Noun:district DEP conj\n",
      "INFO:__main__:Question Features: ['distinction', 'city', 'sprawl', 'metroplex', 'downtown', 'district', 'be']\n",
      "DEBUG:qas.query_const:Conjunction: `and` at 7\n",
      "DEBUG:qas.query_const:Conjuncting: ['city', 'metroplex']\n",
      "DEBUG:qas.query_const:Conjunction: `and` at 15\n",
      "DEBUG:qas.query_const:Conjuncting: ['downtown', 'district']\n",
      "INFO:__main__:Query: [{Features: ['distinction', 'city', 'sprawl', 'metroplex', 'downtown', 'district', 'be'] ,Conjunction: [['city', 'metroplex'], 'and', ['downtown', 'district'], 'and'] ,Negations: [] ,Marker: []}]\n",
      "DEBUG:adam_qas.adam_script:WH :  | WH-POS :  | WH-NBOR-POS :  | Root-POS : NN\n",
      "DEBUG:adam_qas.adam_script:Union Columns: 66\n",
      "DEBUG:adam_qas.adam_script:Training data: (5365, 66)\n",
      "DEBUG:adam_qas.adam_script:Target data: (1, 66)\n",
      "DEBUG:adam_qas.adam_script:Classifier: ['ABBR' 'DESC' 'ENTY' 'HUM' 'LOC' 'NUM']\n",
      "INFO:__main__:Question Class: ['HUM']\n",
      "DEBUG:qas.feature_extractor:Compound Noun:length DEP ROOT\n",
      "DEBUG:qas.feature_extractor:Compound Noun:hole DEP pobj\n",
      "DEBUG:qas.feature_extractor:Compound Noun:pins DEP pobj\n",
      "INFO:__main__:Question Features: ['protusion length', 'hole component', 'component pins', 'length']\n",
      "INFO:__main__:Query: [{Features: ['protusion length', 'hole component', 'component pins', 'length'] ,Conjunction: [] ,Negations: [] ,Marker: []}]\n",
      "DEBUG:adam_qas.adam_script:WH :  | WH-POS :  | WH-NBOR-POS :  | Root-POS : VBN\n",
      "DEBUG:adam_qas.adam_script:Union Columns: 66\n",
      "DEBUG:adam_qas.adam_script:Training data: (5365, 66)\n",
      "DEBUG:adam_qas.adam_script:Target data: (1, 66)\n",
      "DEBUG:adam_qas.adam_script:Classifier: ['ABBR' 'DESC' 'ENTY' 'HUM' 'LOC' 'NUM']\n",
      "INFO:__main__:Question Class: ['HUM']\n",
      "DEBUG:qas.feature_extractor:Compound Noun:affidavit DEP nsubjpass\n",
      "DEBUG:qas.feature_extractor:Compound Noun:Din DEP pobj\n",
      "INFO:__main__:Question Features: ['affidavit', 'Beit Din', 'use']\n",
      "INFO:__main__:Query: [{Features: ['affidavit', 'Beit Din', 'use'] ,Conjunction: [] ,Negations: [] ,Marker: []}]\n"
     ]
    },
    {
     "name": "stdout",
     "output_type": "stream",
     "text": [
      "  q_class                                         q_keywords  \\\n",
      "0  [DESC]                          extension tubes,lens,lose   \n",
      "1  [DESC]  distinction,city,sprawl,metroplex,downtown,dis...   \n",
      "2   [HUM]  protusion length,hole component,component pins...   \n",
      "3   [HUM]                             affidavit,Beit Din,use   \n",
      "\n",
      "                                               quary  \n",
      "0  [{Features: ['extension tubes', 'lens', 'lose'...  \n",
      "1  [{Features: ['distinction', 'city', 'sprawl', ...  \n",
      "2  [{Features: ['protusion length', 'hole compone...  \n",
      "3  [{Features: ['affidavit', 'Beit Din', 'use'] ,...  \n",
      "   qa_id                                     question_title  \\\n",
      "0      0  What am I losing when using extension tubes in...   \n",
      "1      1  What is the distinction between a city and a s...   \n",
      "2      2  Maximum protusion length for through-hole comp...   \n",
      "3      3              Can an affidavit be used in Beit Din?   \n",
      "\n",
      "                                       question_body question_user_name  \\\n",
      "0  After playing around with macro photography on...               ysap   \n",
      "1  I am trying to understand what kinds of places...      russellpierce   \n",
      "2  I'm working on a PCB that has through-hole com...          Joe Baker   \n",
      "3  An affidavit, from what i understand, is basic...         Scimonster   \n",
      "\n",
      "                                  question_user_page  \\\n",
      "0         https://photo.stackexchange.com/users/1024   \n",
      "1           https://rpg.stackexchange.com/users/8774   \n",
      "2  https://electronics.stackexchange.com/users/10157   \n",
      "3       https://judaism.stackexchange.com/users/5151   \n",
      "\n",
      "                                              answer answer_user_name  \\\n",
      "0  I just got extension tubes, so here's the skin...           rfusca   \n",
      "1  It might be helpful to look into the definitio...     Erik Schmidt   \n",
      "2  Do you even need grooves?  We make several pro...      Dwayne Reid   \n",
      "3  Sending an \"affidavit\" it is a dispute between...    Y     e     z   \n",
      "\n",
      "                                    answer_user_page  \\\n",
      "0         https://photo.stackexchange.com/users/1917   \n",
      "1           https://rpg.stackexchange.com/users/1871   \n",
      "2  https://electronics.stackexchange.com/users/64754   \n",
      "3       https://judaism.stackexchange.com/users/4794   \n",
      "\n",
      "                                                 url   category  ...  \\\n",
      "0  http://photo.stackexchange.com/questions/9169/...  LIFE_ARTS  ...   \n",
      "1  http://rpg.stackexchange.com/questions/47820/w...    CULTURE  ...   \n",
      "2  http://electronics.stackexchange.com/questions...    SCIENCE  ...   \n",
      "3  http://judaism.stackexchange.com/questions/551...    CULTURE  ...   \n",
      "\n",
      "  answer_plausible  answer_relevance  answer_satisfaction  \\\n",
      "0         1.000000          1.000000             0.800000   \n",
      "1         0.888889          0.888889             0.666667   \n",
      "2         1.000000          1.000000             0.666667   \n",
      "3         0.833333          1.000000             0.800000   \n",
      "\n",
      "   answer_type_instructions  answer_type_procedure  \\\n",
      "0                       1.0               0.000000   \n",
      "1                       0.0               0.000000   \n",
      "2                       0.0               0.333333   \n",
      "3                       0.0               0.000000   \n",
      "\n",
      "   answer_type_reason_explanation  answer_well_written  q_class  \\\n",
      "0                        0.000000             1.000000   [DESC]   \n",
      "1                        0.666667             0.888889   [DESC]   \n",
      "2                        1.000000             0.888889    [HUM]   \n",
      "3                        1.000000             1.000000    [HUM]   \n",
      "\n",
      "                                          q_keywords  \\\n",
      "0                          extension tubes,lens,lose   \n",
      "1  distinction,city,sprawl,metroplex,downtown,dis...   \n",
      "2  protusion length,hole component,component pins...   \n",
      "3                             affidavit,Beit Din,use   \n",
      "\n",
      "                                               quary  \n",
      "0  [{Features: ['extension tubes', 'lens', 'lose'...  \n",
      "1  [{Features: ['distinction', 'city', 'sprawl', ...  \n",
      "2  [{Features: ['protusion length', 'hole compone...  \n",
      "3  [{Features: ['affidavit', 'Beit Din', 'use'] ,...  \n",
      "\n",
      "[4 rows x 44 columns]\n"
     ]
    }
   ],
   "source": [
    "from adam_qas import adam_script as adam\n",
    "dfOut = pd.DataFrame(np.array([[\"\",\"\",\"\"]]))\n",
    "dfOut.columns = [\"q_class\",\"q_keywords\",\"quary\"]\n",
    "dfOut = dfOut[:-1]\n",
    "\n",
    "new_features = adam.activate(df_train['question_title'], dfOut)\n",
    "print(new_features)\n",
    "\n",
    "df_new_train=pd.concat([df_train,new_features], axis=1, sort=False)\n",
    "\n",
    "print(df_new_train)"
   ]
  },
  {
   "cell_type": "code",
   "execution_count": 58,
   "metadata": {},
   "outputs": [],
   "source": [
    "df_new_train.to_csv(PATH+'df_new_train.csv', index=False)"
   ]
  },
  {
   "cell_type": "markdown",
   "metadata": {},
   "source": [
    "?.Redefine the features passed to the input categories - add sub_categoty"
   ]
  },
  {
   "cell_type": "code",
   "execution_count": 63,
   "metadata": {},
   "outputs": [
    {
     "name": "stdout",
     "output_type": "stream",
     "text": [
      "\n",
      "output categories:\n",
      "\t ['question_asker_intent_understanding', 'question_body_critical', 'question_conversational', 'question_expect_short_answer', 'question_fact_seeking', 'question_has_commonly_accepted_answer', 'question_interestingness_others', 'question_interestingness_self', 'question_multi_intent', 'question_not_really_a_question', 'question_opinion_seeking', 'question_type_choice', 'question_type_compare', 'question_type_consequence', 'question_type_definition', 'question_type_entity', 'question_type_instructions', 'question_type_procedure', 'question_type_reason_explanation', 'question_type_spelling', 'question_well_written', 'answer_helpful', 'answer_level_of_information', 'answer_plausible', 'answer_relevance', 'answer_satisfaction', 'answer_type_instructions', 'answer_type_procedure', 'answer_type_reason_explanation', 'answer_well_written']\n",
      "\n",
      "input categories:\n",
      "\t ['question_title', 'question_body', 'answer', 'sub_category', 'q_class', 'q_keywords', 'quary']\n"
     ]
    }
   ],
   "source": [
    "df_train = pd.read_csv(PATH+'df_new_train.csv')\n",
    "output_categories = list(df_train.columns[11:41])\n",
    "# input_categories = list(df_train.columns[[1,2,5]])#orogional code\n",
    "input_categories = list(df_train.columns[[1,2,5,10,41,42,43]]) # we added the sub_categoty!\n",
    "print('\\noutput categories:\\n\\t', output_categories)\n",
    "print('\\ninput categories:\\n\\t', input_categories)"
   ]
  },
  {
   "cell_type": "code",
   "execution_count": null,
   "metadata": {
    "collapsed": true
   },
   "outputs": [],
   "source": [
    "def _get_masks(tokens, max_seq_length):\n",
    "    \"\"\"Mask for padding\"\"\"\n",
    "    if len(tokens)>max_seq_length:\n",
    "        raise IndexError(\"Token length more than max seq length!\")\n",
    "    return [1]*len(tokens) + [0] * (max_seq_length - len(tokens))\n",
    "\n",
    "def _get_segments(tokens, max_seq_length):\n",
    "    \"\"\"Segments: 0 for the first sequence, 1 for the second\"\"\"\n",
    "    if len(tokens)>max_seq_length:\n",
    "        raise IndexError(\"Token length more than max seq length!\")\n",
    "    segments = []\n",
    "    first_sep = True\n",
    "    current_segment_id = 0\n",
    "    for token in tokens:\n",
    "        segments.append(current_segment_id)\n",
    "        if token == \"[SEP]\":\n",
    "            if first_sep:\n",
    "                first_sep = False \n",
    "            else:\n",
    "                current_segment_id = 1\n",
    "    return segments + [0] * (max_seq_length - len(tokens))\n",
    "\n",
    "def _get_ids(tokens, tokenizer, max_seq_length):\n",
    "    \"\"\"Token ids from Tokenizer vocab\"\"\"\n",
    "    token_ids = tokenizer.convert_tokens_to_ids(tokens)\n",
    "    input_ids = token_ids + [0] * (max_seq_length-len(token_ids))\n",
    "    return input_ids\n",
    "\n",
    "def _trim_input(title, question, answer, max_sequence_length, \n",
    "                t_max_len=30, q_max_len=239, a_max_len=239):\n",
    "\n",
    "    t = tokenizer.tokenize(title)\n",
    "    q = tokenizer.tokenize(question)\n",
    "    a = tokenizer.tokenize(answer)\n",
    "    \n",
    "    t_len = len(t)\n",
    "    q_len = len(q)\n",
    "    a_len = len(a)\n",
    "\n",
    "    if (t_len+q_len+a_len+4) > max_sequence_length:\n",
    "        \n",
    "        if t_max_len > t_len:\n",
    "            t_new_len = t_len\n",
    "            a_max_len = a_max_len + floor((t_max_len - t_len)/2)\n",
    "            q_max_len = q_max_len + ceil((t_max_len - t_len)/2)\n",
    "        else:\n",
    "            t_new_len = t_max_len\n",
    "      \n",
    "        if a_max_len > a_len:\n",
    "            a_new_len = a_len \n",
    "            q_new_len = q_max_len + (a_max_len - a_len)\n",
    "        elif q_max_len > q_len:\n",
    "            a_new_len = a_max_len + (q_max_len - q_len)\n",
    "            q_new_len = q_len\n",
    "        else:\n",
    "            a_new_len = a_max_len\n",
    "            q_new_len = q_max_len\n",
    "            \n",
    "            \n",
    "        if t_new_len+a_new_len+q_new_len+4 != max_sequence_length:\n",
    "            raise ValueError(\"New sequence length should be %d, but is %d\" \n",
    "                             % (max_sequence_length, (t_new_len+a_new_len+q_new_len+4)))\n",
    "        \n",
    "        t = t[:t_new_len]\n",
    "        q = q[:q_new_len]\n",
    "        a = a[:a_new_len]\n",
    "    \n",
    "    return t, q, a\n",
    "\n",
    "def _convert_to_bert_inputs(title, question, answer, tokenizer, max_sequence_length):\n",
    "    \"\"\"Converts tokenized input to ids, masks and segments for BERT\"\"\"\n",
    "    \n",
    "    stoken = [\"[CLS]\"] + title + [\"[SEP]\"] + question + [\"[SEP]\"] + answer + [\"[SEP]\"]\n",
    "\n",
    "    input_ids = _get_ids(stoken, tokenizer, max_sequence_length)\n",
    "    input_masks = _get_masks(stoken, max_sequence_length)\n",
    "    input_segments = _get_segments(stoken, max_sequence_length)\n",
    "\n",
    "    return [input_ids, input_masks, input_segments]\n",
    "\n",
    "def compute_input_arays(df, columns, tokenizer, max_sequence_length):\n",
    "    input_ids, input_masks, input_segments = [], [], []\n",
    "    for _, instance in tqdm(df[columns].iterrows()):\n",
    "        t, q, a = instance.question_title, instance.question_body, instance.answer\n",
    "\n",
    "        t, q, a = _trim_input(t, q, a, max_sequence_length)\n",
    "\n",
    "        ids, masks, segments = _convert_to_bert_inputs(t, q, a, tokenizer, max_sequence_length)\n",
    "        input_ids.append(ids)\n",
    "        input_masks.append(masks)\n",
    "        input_segments.append(segments)\n",
    "        \n",
    "    return [np.asarray(input_ids, dtype=np.int32), \n",
    "            np.asarray(input_masks, dtype=np.int32), \n",
    "            np.asarray(input_segments, dtype=np.int32)]\n",
    "\n",
    "\n",
    "def compute_output_arrays(df, columns):\n",
    "    return np.asarray(df[columns])\n"
   ]
  },
  {
   "cell_type": "code",
   "execution_count": null,
   "metadata": {
    "collapsed": true
   },
   "outputs": [],
   "source": [
    "def compute_spearmanr(trues, preds):\n",
    "    rhos = []\n",
    "    for col_trues, col_pred in zip(trues.T, preds.T):\n",
    "        rhos.append(\n",
    "            spearmanr(col_trues, col_pred + np.random.normal(0, 1e-7, col_pred.shape[0])).correlation)\n",
    "    return np.mean(rhos)\n",
    "\n",
    "\n",
    "class CustomCallback(tf.keras.callbacks.Callback):\n",
    "    \n",
    "    def __init__(self, valid_data, test_data, batch_size=16, fold=None):\n",
    "\n",
    "        self.valid_inputs = valid_data[0]\n",
    "        self.valid_outputs = valid_data[1]\n",
    "        self.test_inputs = test_data\n",
    "        \n",
    "        self.batch_size = batch_size\n",
    "        self.fold = fold\n",
    "        \n",
    "    def on_train_begin(self, logs={}):\n",
    "        self.valid_predictions = []\n",
    "        self.test_predictions = []\n",
    "        \n",
    "    def on_epoch_end(self, epoch, logs={}):\n",
    "        self.valid_predictions.append(\n",
    "            self.model.predict(self.valid_inputs, batch_size=self.batch_size))\n",
    "        \n",
    "        rho_val = compute_spearmanr(\n",
    "            self.valid_outputs, np.average(self.valid_predictions, axis=0))\n",
    "        \n",
    "        print(\"\\nvalidation rho: %.4f\" % rho_val)\n",
    "        \n",
    "        if self.fold is not None:\n",
    "            self.model.save_weights(f'bert-base-{fold}-{epoch}.h5py')\n",
    "        \n",
    "        self.test_predictions.append(\n",
    "            self.model.predict(self.test_inputs, batch_size=self.batch_size)\n",
    "        )\n",
    "\n",
    "def bert_model():\n",
    "    \n",
    "    input_word_ids = tf.keras.layers.Input(\n",
    "        (MAX_SEQUENCE_LENGTH,), dtype=tf.int32, name='input_word_ids')\n",
    "    input_masks = tf.keras.layers.Input(\n",
    "        (MAX_SEQUENCE_LENGTH,), dtype=tf.int32, name='input_masks')\n",
    "    input_segments = tf.keras.layers.Input(\n",
    "        (MAX_SEQUENCE_LENGTH,), dtype=tf.int32, name='input_segments')\n",
    "    \n",
    "    bert_layer = hub.KerasLayer(BERT_PATH, trainable=True)\n",
    "    \n",
    "    _, sequence_output = bert_layer([input_word_ids, input_masks, input_segments])\n",
    "    \n",
    "    x = tf.keras.layers.GlobalAveragePooling1D()(sequence_output)\n",
    "    x = tf.keras.layers.Dropout(0.2)(x)\n",
    "    out = tf.keras.layers.Dense(30, activation=\"sigmoid\", name=\"dense_output\")(x)\n",
    "\n",
    "    model = tf.keras.models.Model(\n",
    "        inputs=[input_word_ids, input_masks, input_segments], outputs=out)\n",
    "    \n",
    "    return model    \n",
    "        \n",
    "def train_and_predict(model, train_data, valid_data, test_data, \n",
    "                      learning_rate, epochs, batch_size, loss_function, fold):\n",
    "        \n",
    "    custom_callback = CustomCallback(\n",
    "        valid_data=(valid_data[0], valid_data[1]), \n",
    "        test_data=test_data,\n",
    "        batch_size=batch_size,\n",
    "        fold=None)\n",
    "\n",
    "    optimizer = tf.keras.optimizers.Adam(learning_rate=learning_rate)\n",
    "    model.compile(loss=loss_function, optimizer=optimizer)\n",
    "    model.fit(train_data[0], train_data[1], epochs=epochs, \n",
    "              batch_size=batch_size, callbacks=[custom_callback])\n",
    "    \n",
    "    return custom_callback\n"
   ]
  },
  {
   "cell_type": "code",
   "execution_count": null,
   "metadata": {},
   "outputs": [],
   "source": [
    "gkf = GroupKFold(n_splits=10).split(X=df_train.question_body, groups=df_train.question_body) ############## originaln_splits=10\n",
    "\n",
    "outputs = compute_output_arrays(df_train, output_categories)\n",
    "inputs = compute_input_arays(df_train, input_categories, tokenizer, MAX_SEQUENCE_LENGTH)\n",
    "test_inputs = compute_input_arays(df_test, input_categories, tokenizer, MAX_SEQUENCE_LENGTH)"
   ]
  },
  {
   "cell_type": "code",
   "execution_count": null,
   "metadata": {},
   "outputs": [],
   "source": [
    "histories = []\n",
    "for fold, (train_idx, valid_idx) in enumerate(gkf):\n",
    "    \n",
    "    # will actually only do 3 folds (out of 5) to manage < 2h\n",
    "    if fold < 3:\n",
    "        K.clear_session()\n",
    "        model = bert_model()\n",
    "\n",
    "        train_inputs = [inputs[i][train_idx] for i in range(3)]\n",
    "        train_outputs = outputs[train_idx]\n",
    "\n",
    "        valid_inputs = [inputs[i][valid_idx] for i in range(3)]\n",
    "        valid_outputs = outputs[valid_idx]\n",
    "\n",
    "        # history contains two lists of valid and test preds respectively:\n",
    "        #  [valid_predictions_{fold}, test_predictions_{fold}]\n",
    "        history = train_and_predict(model, \n",
    "                          train_data=(train_inputs, train_outputs), \n",
    "                          valid_data=(valid_inputs, valid_outputs),\n",
    "                          test_data=test_inputs, \n",
    "                          learning_rate=0, epochs=1, batch_size=10,\n",
    "                          loss_function='binary_crossentropy', fold=fold)\n",
    "\n",
    "        histories.append(history)"
   ]
  },
  {
   "cell_type": "code",
   "execution_count": null,
   "metadata": {
    "collapsed": true
   },
   "outputs": [],
   "source": [
    "# test_predictions = [histories[i].test_predictions for i in range(len(histories))]\n",
    "# test_predictions = [np.average(test_predictions[i], axis=0) for i in range(len(test_predictions))]\n",
    "# test_predictions = np.mean(test_predictions, axis=0)\n",
    "\n",
    "# df_sub =df_sub.assign(results = test_predictions)\n",
    "# print(df_sub)\n",
    "# df_sub.to_csv('submission.csv', index=False)"
   ]
  },
  {
   "cell_type": "code",
   "execution_count": null,
   "metadata": {
    "collapsed": true
   },
   "outputs": [],
   "source": []
  },
  {
   "cell_type": "markdown",
   "metadata": {},
   "source": [
    "notes:\n",
    "\n"
   ]
  },
  {
   "cell_type": "code",
   "execution_count": null,
   "metadata": {
    "collapsed": true
   },
   "outputs": [],
   "source": []
  },
  {
   "cell_type": "code",
   "execution_count": null,
   "metadata": {
    "collapsed": true
   },
   "outputs": [],
   "source": []
  },
  {
   "cell_type": "code",
   "execution_count": null,
   "metadata": {
    "collapsed": true
   },
   "outputs": [],
   "source": []
  },
  {
   "cell_type": "code",
   "execution_count": null,
   "metadata": {
    "collapsed": true
   },
   "outputs": [],
   "source": []
  },
  {
   "cell_type": "code",
   "execution_count": null,
   "metadata": {
    "collapsed": true
   },
   "outputs": [],
   "source": []
  }
 ],
 "metadata": {
  "kernelspec": {
   "display_name": "Python 3",
   "language": "python",
   "name": "python3"
  },
  "language_info": {
   "codemirror_mode": {
    "name": "ipython",
    "version": 3
   },
   "file_extension": ".py",
   "mimetype": "text/x-python",
   "name": "python",
   "nbconvert_exporter": "python",
   "pygments_lexer": "ipython3",
   "version": "3.6.1"
  }
 },
 "nbformat": 4,
 "nbformat_minor": 1
}
