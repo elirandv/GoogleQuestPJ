{
 "cells": [
  {
   "cell_type": "markdown",
   "metadata": {
    "_cell_guid": "b1076dfc-b9ad-4769-8c92-a6c4dae69d19",
    "_uuid": "8f2839f25d086af736a60e9eeb907d3b93b6e0e5"
   },
   "source": [
    "# ***Data Science Workshop - Google Quest*** "
   ]
  },
  {
   "cell_type": "markdown",
   "metadata": {},
   "source": [
    "# **Libraries import:** "
   ]
  },
  {
   "cell_type": "code",
   "execution_count": 121,
   "metadata": {},
   "outputs": [],
   "source": [
    "import pandas as pd\n",
    "import numpy as np\n",
    "from sklearn.model_selection import GroupKFold\n",
    "from bert_tokenization import bertTokenization as tokenization\n",
    "import tensorflow.keras.backend as K\n",
    "import gc\n",
    "from scipy.stats import spearmanr\n",
    "import seaborn as sns\n",
    "import amen_script as modBert\n",
    "\n",
    "np.set_printoptions(suppress=True)"
   ]
  },
  {
   "cell_type": "markdown",
   "metadata": {},
   "source": [
    "# **Dataset upload:** "
   ]
  },
  {
   "cell_type": "code",
   "execution_count": 122,
   "metadata": {},
   "outputs": [
    {
     "name": "stdout",
     "output_type": "stream",
     "text": [
      "train shape = (6079, 41)\n",
      "test shape =PATH (476, 11)\n"
     ]
    }
   ],
   "source": [
    "PATH = 'input/Data/'\n",
    "BERT_PATH = 'input/bert-base-from-tfhub/bert_en_uncased_L-12_H-768_A-12'\n",
    "tokenizer = tokenization.FullTokenizer(BERT_PATH+'/assets/vocab.txt', True)\n",
    "MAX_SEQUENCE_LENGTH = 512\n",
    "\n",
    "df_train = pd.read_csv(PATH+'train.csv')\n",
    "df_test = pd.read_csv(PATH+'test.csv')\n",
    "df_sub = pd.read_csv(PATH+'sample_submission.csv')\n",
    "\n",
    "print('train shape =', df_train.shape)\n",
    "print('test shape =PATH', df_test.shape)"
   ]
  },
  {
   "cell_type": "code",
   "execution_count": 123,
   "metadata": {},
   "outputs": [
    {
     "data": {
      "text/html": [
       "<div>\n",
       "<style scoped>\n",
       "    .dataframe tbody tr th:only-of-type {\n",
       "        vertical-align: middle;\n",
       "    }\n",
       "\n",
       "    .dataframe tbody tr th {\n",
       "        vertical-align: top;\n",
       "    }\n",
       "\n",
       "    .dataframe thead th {\n",
       "        text-align: right;\n",
       "    }\n",
       "</style>\n",
       "<table border=\"1\" class=\"dataframe\">\n",
       "  <thead>\n",
       "    <tr style=\"text-align: right;\">\n",
       "      <th></th>\n",
       "      <th>qa_id</th>\n",
       "      <th>question_title</th>\n",
       "      <th>question_body</th>\n",
       "      <th>question_user_name</th>\n",
       "      <th>question_user_page</th>\n",
       "      <th>answer</th>\n",
       "      <th>answer_user_name</th>\n",
       "      <th>answer_user_page</th>\n",
       "      <th>url</th>\n",
       "      <th>category</th>\n",
       "      <th>...</th>\n",
       "      <th>question_well_written</th>\n",
       "      <th>answer_helpful</th>\n",
       "      <th>answer_level_of_information</th>\n",
       "      <th>answer_plausible</th>\n",
       "      <th>answer_relevance</th>\n",
       "      <th>answer_satisfaction</th>\n",
       "      <th>answer_type_instructions</th>\n",
       "      <th>answer_type_procedure</th>\n",
       "      <th>answer_type_reason_explanation</th>\n",
       "      <th>answer_well_written</th>\n",
       "    </tr>\n",
       "  </thead>\n",
       "  <tbody>\n",
       "    <tr>\n",
       "      <th>0</th>\n",
       "      <td>0</td>\n",
       "      <td>What am I losing when using extension tubes in...</td>\n",
       "      <td>After playing around with macro photography on...</td>\n",
       "      <td>ysap</td>\n",
       "      <td>https://photo.stackexchange.com/users/1024</td>\n",
       "      <td>I just got extension tubes, so here's the skin...</td>\n",
       "      <td>rfusca</td>\n",
       "      <td>https://photo.stackexchange.com/users/1917</td>\n",
       "      <td>http://photo.stackexchange.com/questions/9169/...</td>\n",
       "      <td>LIFE_ARTS</td>\n",
       "      <td>...</td>\n",
       "      <td>1.000000</td>\n",
       "      <td>1.000000</td>\n",
       "      <td>0.666667</td>\n",
       "      <td>1.000000</td>\n",
       "      <td>1.000000</td>\n",
       "      <td>0.800000</td>\n",
       "      <td>1.0</td>\n",
       "      <td>0.000000</td>\n",
       "      <td>0.000000</td>\n",
       "      <td>1.000000</td>\n",
       "    </tr>\n",
       "    <tr>\n",
       "      <th>1</th>\n",
       "      <td>1</td>\n",
       "      <td>What is the distinction between a city and a s...</td>\n",
       "      <td>I am trying to understand what kinds of places...</td>\n",
       "      <td>russellpierce</td>\n",
       "      <td>https://rpg.stackexchange.com/users/8774</td>\n",
       "      <td>It might be helpful to look into the definitio...</td>\n",
       "      <td>Erik Schmidt</td>\n",
       "      <td>https://rpg.stackexchange.com/users/1871</td>\n",
       "      <td>http://rpg.stackexchange.com/questions/47820/w...</td>\n",
       "      <td>CULTURE</td>\n",
       "      <td>...</td>\n",
       "      <td>0.888889</td>\n",
       "      <td>0.888889</td>\n",
       "      <td>0.555556</td>\n",
       "      <td>0.888889</td>\n",
       "      <td>0.888889</td>\n",
       "      <td>0.666667</td>\n",
       "      <td>0.0</td>\n",
       "      <td>0.000000</td>\n",
       "      <td>0.666667</td>\n",
       "      <td>0.888889</td>\n",
       "    </tr>\n",
       "    <tr>\n",
       "      <th>2</th>\n",
       "      <td>2</td>\n",
       "      <td>Maximum protusion length for through-hole comp...</td>\n",
       "      <td>I'm working on a PCB that has through-hole com...</td>\n",
       "      <td>Joe Baker</td>\n",
       "      <td>https://electronics.stackexchange.com/users/10157</td>\n",
       "      <td>Do you even need grooves?  We make several pro...</td>\n",
       "      <td>Dwayne Reid</td>\n",
       "      <td>https://electronics.stackexchange.com/users/64754</td>\n",
       "      <td>http://electronics.stackexchange.com/questions...</td>\n",
       "      <td>SCIENCE</td>\n",
       "      <td>...</td>\n",
       "      <td>0.777778</td>\n",
       "      <td>0.777778</td>\n",
       "      <td>0.555556</td>\n",
       "      <td>1.000000</td>\n",
       "      <td>1.000000</td>\n",
       "      <td>0.666667</td>\n",
       "      <td>0.0</td>\n",
       "      <td>0.333333</td>\n",
       "      <td>1.000000</td>\n",
       "      <td>0.888889</td>\n",
       "    </tr>\n",
       "  </tbody>\n",
       "</table>\n",
       "<p>3 rows × 41 columns</p>\n",
       "</div>"
      ],
      "text/plain": [
       "   qa_id                                     question_title  \\\n",
       "0      0  What am I losing when using extension tubes in...   \n",
       "1      1  What is the distinction between a city and a s...   \n",
       "2      2  Maximum protusion length for through-hole comp...   \n",
       "\n",
       "                                       question_body question_user_name  \\\n",
       "0  After playing around with macro photography on...               ysap   \n",
       "1  I am trying to understand what kinds of places...      russellpierce   \n",
       "2  I'm working on a PCB that has through-hole com...          Joe Baker   \n",
       "\n",
       "                                  question_user_page  \\\n",
       "0         https://photo.stackexchange.com/users/1024   \n",
       "1           https://rpg.stackexchange.com/users/8774   \n",
       "2  https://electronics.stackexchange.com/users/10157   \n",
       "\n",
       "                                              answer answer_user_name  \\\n",
       "0  I just got extension tubes, so here's the skin...           rfusca   \n",
       "1  It might be helpful to look into the definitio...     Erik Schmidt   \n",
       "2  Do you even need grooves?  We make several pro...      Dwayne Reid   \n",
       "\n",
       "                                    answer_user_page  \\\n",
       "0         https://photo.stackexchange.com/users/1917   \n",
       "1           https://rpg.stackexchange.com/users/1871   \n",
       "2  https://electronics.stackexchange.com/users/64754   \n",
       "\n",
       "                                                 url   category  ...  \\\n",
       "0  http://photo.stackexchange.com/questions/9169/...  LIFE_ARTS  ...   \n",
       "1  http://rpg.stackexchange.com/questions/47820/w...    CULTURE  ...   \n",
       "2  http://electronics.stackexchange.com/questions...    SCIENCE  ...   \n",
       "\n",
       "  question_well_written  answer_helpful  answer_level_of_information  \\\n",
       "0              1.000000        1.000000                     0.666667   \n",
       "1              0.888889        0.888889                     0.555556   \n",
       "2              0.777778        0.777778                     0.555556   \n",
       "\n",
       "   answer_plausible  answer_relevance  answer_satisfaction  \\\n",
       "0          1.000000          1.000000             0.800000   \n",
       "1          0.888889          0.888889             0.666667   \n",
       "2          1.000000          1.000000             0.666667   \n",
       "\n",
       "   answer_type_instructions  answer_type_procedure  \\\n",
       "0                       1.0               0.000000   \n",
       "1                       0.0               0.000000   \n",
       "2                       0.0               0.333333   \n",
       "\n",
       "   answer_type_reason_explanation  answer_well_written  \n",
       "0                        0.000000             1.000000  \n",
       "1                        0.666667             0.888889  \n",
       "2                        1.000000             0.888889  \n",
       "\n",
       "[3 rows x 41 columns]"
      ]
     },
     "execution_count": 123,
     "metadata": {},
     "output_type": "execute_result"
    }
   ],
   "source": [
    "df_train.head(3)"
   ]
  },
  {
   "cell_type": "code",
   "execution_count": 124,
   "metadata": {},
   "outputs": [
    {
     "data": {
      "text/html": [
       "<div>\n",
       "<style scoped>\n",
       "    .dataframe tbody tr th:only-of-type {\n",
       "        vertical-align: middle;\n",
       "    }\n",
       "\n",
       "    .dataframe tbody tr th {\n",
       "        vertical-align: top;\n",
       "    }\n",
       "\n",
       "    .dataframe thead th {\n",
       "        text-align: right;\n",
       "    }\n",
       "</style>\n",
       "<table border=\"1\" class=\"dataframe\">\n",
       "  <thead>\n",
       "    <tr style=\"text-align: right;\">\n",
       "      <th></th>\n",
       "      <th>qa_id</th>\n",
       "      <th>question_title</th>\n",
       "      <th>question_body</th>\n",
       "      <th>question_user_name</th>\n",
       "      <th>question_user_page</th>\n",
       "      <th>answer</th>\n",
       "      <th>answer_user_name</th>\n",
       "      <th>answer_user_page</th>\n",
       "      <th>url</th>\n",
       "      <th>category</th>\n",
       "      <th>host</th>\n",
       "    </tr>\n",
       "  </thead>\n",
       "  <tbody>\n",
       "    <tr>\n",
       "      <th>0</th>\n",
       "      <td>39</td>\n",
       "      <td>Will leaving corpses lying around upset my pri...</td>\n",
       "      <td>I see questions/information online about how t...</td>\n",
       "      <td>Dylan</td>\n",
       "      <td>https://gaming.stackexchange.com/users/64471</td>\n",
       "      <td>There is no consequence for leaving corpses an...</td>\n",
       "      <td>Nelson868</td>\n",
       "      <td>https://gaming.stackexchange.com/users/97324</td>\n",
       "      <td>http://gaming.stackexchange.com/questions/1979...</td>\n",
       "      <td>CULTURE</td>\n",
       "      <td>gaming.stackexchange.com</td>\n",
       "    </tr>\n",
       "    <tr>\n",
       "      <th>1</th>\n",
       "      <td>46</td>\n",
       "      <td>Url link to feature image in the portfolio</td>\n",
       "      <td>I am new to Wordpress. i have issue with Featu...</td>\n",
       "      <td>Anu</td>\n",
       "      <td>https://wordpress.stackexchange.com/users/72927</td>\n",
       "      <td>I think it is possible with custom fields.\\r\\n...</td>\n",
       "      <td>Irina</td>\n",
       "      <td>https://wordpress.stackexchange.com/users/27233</td>\n",
       "      <td>http://wordpress.stackexchange.com/questions/1...</td>\n",
       "      <td>TECHNOLOGY</td>\n",
       "      <td>wordpress.stackexchange.com</td>\n",
       "    </tr>\n",
       "    <tr>\n",
       "      <th>2</th>\n",
       "      <td>70</td>\n",
       "      <td>Is accuracy, recoil or bullet spread affected ...</td>\n",
       "      <td>To experiment I started a bot game, toggled in...</td>\n",
       "      <td>Konsta</td>\n",
       "      <td>https://gaming.stackexchange.com/users/37545</td>\n",
       "      <td>You do not have armour in the screenshots. Thi...</td>\n",
       "      <td>Damon Smithies</td>\n",
       "      <td>https://gaming.stackexchange.com/users/70641</td>\n",
       "      <td>http://gaming.stackexchange.com/questions/2154...</td>\n",
       "      <td>CULTURE</td>\n",
       "      <td>gaming.stackexchange.com</td>\n",
       "    </tr>\n",
       "  </tbody>\n",
       "</table>\n",
       "</div>"
      ],
      "text/plain": [
       "   qa_id                                     question_title  \\\n",
       "0     39  Will leaving corpses lying around upset my pri...   \n",
       "1     46         Url link to feature image in the portfolio   \n",
       "2     70  Is accuracy, recoil or bullet spread affected ...   \n",
       "\n",
       "                                       question_body question_user_name  \\\n",
       "0  I see questions/information online about how t...              Dylan   \n",
       "1  I am new to Wordpress. i have issue with Featu...                Anu   \n",
       "2  To experiment I started a bot game, toggled in...             Konsta   \n",
       "\n",
       "                                question_user_page  \\\n",
       "0     https://gaming.stackexchange.com/users/64471   \n",
       "1  https://wordpress.stackexchange.com/users/72927   \n",
       "2     https://gaming.stackexchange.com/users/37545   \n",
       "\n",
       "                                              answer answer_user_name  \\\n",
       "0  There is no consequence for leaving corpses an...        Nelson868   \n",
       "1  I think it is possible with custom fields.\\r\\n...            Irina   \n",
       "2  You do not have armour in the screenshots. Thi...   Damon Smithies   \n",
       "\n",
       "                                  answer_user_page  \\\n",
       "0     https://gaming.stackexchange.com/users/97324   \n",
       "1  https://wordpress.stackexchange.com/users/27233   \n",
       "2     https://gaming.stackexchange.com/users/70641   \n",
       "\n",
       "                                                 url    category  \\\n",
       "0  http://gaming.stackexchange.com/questions/1979...     CULTURE   \n",
       "1  http://wordpress.stackexchange.com/questions/1...  TECHNOLOGY   \n",
       "2  http://gaming.stackexchange.com/questions/2154...     CULTURE   \n",
       "\n",
       "                          host  \n",
       "0     gaming.stackexchange.com  \n",
       "1  wordpress.stackexchange.com  \n",
       "2     gaming.stackexchange.com  "
      ]
     },
     "execution_count": 124,
     "metadata": {},
     "output_type": "execute_result"
    }
   ],
   "source": [
    "df_test.head(3)"
   ]
  },
  {
   "cell_type": "markdown",
   "metadata": {},
   "source": [
    "# **Data engineering:**\n"
   ]
  },
  {
   "cell_type": "markdown",
   "metadata": {},
   "source": [
    "*1.NaN handling*"
   ]
  },
  {
   "cell_type": "code",
   "execution_count": 125,
   "metadata": {},
   "outputs": [
    {
     "name": "stdout",
     "output_type": "stream",
     "text": [
      "qa_id 0.0\n",
      "question_title 0.0\n",
      "question_body 0.0\n",
      "question_user_name 0.0\n",
      "question_user_page 0.0\n",
      "answer 0.0\n",
      "answer_user_name 0.0\n",
      "answer_user_page 0.0\n",
      "url 0.0\n",
      "category 0.0\n",
      "host 0.0\n",
      "question_asker_intent_understanding 0.0\n",
      "question_body_critical 0.0\n",
      "question_conversational 0.0\n",
      "question_expect_short_answer 0.0\n",
      "question_fact_seeking 0.0\n",
      "question_has_commonly_accepted_answer 0.0\n",
      "question_interestingness_others 0.0\n",
      "question_interestingness_self 0.0\n",
      "question_multi_intent 0.0\n",
      "question_not_really_a_question 0.0\n",
      "question_opinion_seeking 0.0\n",
      "question_type_choice 0.0\n",
      "question_type_compare 0.0\n",
      "question_type_consequence 0.0\n",
      "question_type_definition 0.0\n",
      "question_type_entity 0.0\n",
      "question_type_instructions 0.0\n",
      "question_type_procedure 0.0\n",
      "question_type_reason_explanation 0.0\n",
      "question_type_spelling 0.0\n",
      "question_well_written 0.0\n",
      "answer_helpful 0.0\n",
      "answer_level_of_information 0.0\n",
      "answer_plausible 0.0\n",
      "answer_relevance 0.0\n",
      "answer_satisfaction 0.0\n",
      "answer_type_instructions 0.0\n",
      "answer_type_procedure 0.0\n",
      "answer_type_reason_explanation 0.0\n",
      "answer_well_written 0.0\n"
     ]
    }
   ],
   "source": [
    "# NaN count calculations\n",
    "count = 0\n",
    "for var in df_train.head(1):\n",
    "    for elem in df_train[var]:\n",
    "        if elem == 'NaN' :\n",
    "            count +=1    \n",
    "    print(var , count/df_train.shape[0])\n",
    "    count = 0\n"
   ]
  },
  {
   "cell_type": "markdown",
   "metadata": {},
   "source": [
    "*2.Extraction of 'host' and 'category' to 'sub_category'*"
   ]
  },
  {
   "cell_type": "code",
   "execution_count": 126,
   "metadata": {},
   "outputs": [
    {
     "name": "stderr",
     "output_type": "stream",
     "text": [
      "C:\\Users\\elirane\\Anaconda3\\lib\\site-packages\\seaborn\\categorical.py:1428: FutureWarning: remove_na is deprecated and is a private function. Do not use.\n",
      "  stat_data = remove_na(group_data)\n"
     ]
    },
    {
     "data": {
      "text/plain": [
       "<matplotlib.axes._subplots.AxesSubplot at 0x1c3ad32d978>"
      ]
     },
     "execution_count": 126,
     "metadata": {},
     "output_type": "execute_result"
    },
    {
     "data": {
      "image/png": "[encoded data removed]",
      "text/plain": [
       "<matplotlib.figure.Figure at 0x1c3ac7cfdd8>"
      ]
     },
     "metadata": {},
     "output_type": "display_data"
    }
   ],
   "source": [
    "# Category feature distribution\n",
    "%matplotlib inline\n",
    "sns.set(font_scale=1)\n",
    "sns.countplot(x='category', data=df_train)"
   ]
  },
  {
   "cell_type": "code",
   "execution_count": 127,
   "metadata": {
    "collapsed": true
   },
   "outputs": [],
   "source": [
    "# Clean host URL to create subcategory\n",
    "df_train['host']=df_train['host'].apply(lambda x:(x.replace(x ,x.split('.')[0])))\n",
    "df_test['host']=df_test['host'].apply(lambda x:(x.replace(x ,x.split('.')[0])))"
   ]
  },
  {
   "cell_type": "code",
   "execution_count": 128,
   "metadata": {
    "collapsed": true
   },
   "outputs": [],
   "source": [
    "# Change feature name\n",
    "df_train.columns = df_train.columns.str.replace('host', 'sub_category')\n",
    "df_test.columns = df_test.columns.str.replace('host', 'sub_category')"
   ]
  },
  {
   "cell_type": "code",
   "execution_count": 129,
   "metadata": {},
   "outputs": [
    {
     "name": "stdout",
     "output_type": "stream",
     "text": [
      "\u001b[1m\u001b[91m\u001b[4msub_categories that mapped to different categories:\u001b[0m\n",
      "electronics ['SCIENCE' 'TECHNOLOGY']\n",
      "mechanics ['CULTURE' 'SCIENCE']\n",
      "meta ['TECHNOLOGY' 'CULTURE' 'SCIENCE']\n"
     ]
    }
   ],
   "source": [
    "# Figure out if category is redundent due to the sub category\n",
    "print('\\033[1m' + '\\033[91m' + '\\033[4m' + \"sub_categories that mapped to different categories:\" +'\\033[0m')\n",
    "arr_sub_category = {}\n",
    "for sub in df_train['sub_category'].unique():\n",
    "    data = df_train[df_train['sub_category'] == sub]\n",
    "    arr = df_train[df_train['sub_category'] == sub]['category'].unique()\n",
    "    if len(arr) > 1:\n",
    "        arr_sub_category[sub] = arr\n",
    "        print(sub, arr)"
   ]
  },
  {
   "cell_type": "code",
   "execution_count": 130,
   "metadata": {
    "collapsed": true
   },
   "outputs": [],
   "source": [
    "# Modify each sub_category that was found in more than one category \n",
    "# (in order to drop the category feature without loosing any important info)\n",
    "for key in arr_sub_category.keys():\n",
    "    for val in arr_sub_category[key]:\n",
    "        df_train[(df_train['sub_category'] == key) & (df_train['category'] == val)] = df_train[(df_train['sub_category'] == key) & (df_train['category'] == val)].apply(lambda x :x.replace(key, key+'_'+val))"
   ]
  },
  {
   "cell_type": "code",
   "execution_count": 131,
   "metadata": {},
   "outputs": [
    {
     "name": "stdout",
     "output_type": "stream",
     "text": [
      "['photo' 'rpg' 'electronics_SCIENCE' 'judaism' 'graphicdesign'\n",
      " 'stackoverflow' 'askubuntu' 'gaming' 'serverfault' 'unix' 'dba'\n",
      " 'codereview' 'crypto' 'tex' 'travel' 'webapps' 'mechanics_CULTURE'\n",
      " 'physics' 'math' 'programmers' 'biology' 'wordpress' 'superuser'\n",
      " 'electronics_TECHNOLOGY' 'music' 'blender' 'dsp' 'drupal'\n",
      " 'meta_TECHNOLOGY' 'security' 'raspberrypi' 'academia' 'bicycles'\n",
      " 'android' 'mathoverflow' 'boardgames' 'movies' 'anime' 'apple'\n",
      " 'webmasters' 'diy' 'gis' 'stats' 'ux' 'english' 'scifi' 'gamedev' 'cs'\n",
      " 'cooking' 'sharepoint' 'mathematica' 'salesforce' 'expressionengine'\n",
      " 'magento' 'mechanics_SCIENCE' 'christianity' 'chemistry' 'money' 'ell'\n",
      " 'robotics' 'softwarerecs' 'meta_CULTURE' 'meta_SCIENCE']\n"
     ]
    }
   ],
   "source": [
    "# Checking the new feature:\n",
    "print(df_train['sub_category'].unique())"
   ]
  },
  {
   "cell_type": "markdown",
   "metadata": {},
   "source": [
    "*3.sub_categories plot*"
   ]
  },
  {
   "cell_type": "code",
   "execution_count": 132,
   "metadata": {},
   "outputs": [
    {
     "name": "stderr",
     "output_type": "stream",
     "text": [
      "C:\\Users\\elirane\\Anaconda3\\lib\\site-packages\\seaborn\\categorical.py:1428: FutureWarning: remove_na is deprecated and is a private function. Do not use.\n",
      "  stat_data = remove_na(group_data)\n"
     ]
    },
    {
     "data": {
      "text/plain": [
       "stackoverflow    1253\n",
       "english           229\n",
       "superuser         227\n",
       "serverfault       213\n",
       "math              187\n",
       "Name: sub_category, dtype: int64"
      ]
     },
     "execution_count": 132,
     "metadata": {},
     "output_type": "execute_result"
    },
    {
     "data": {
      "image/png": "[encoded data removed]",
      "text/plain": [
       "<matplotlib.figure.Figure at 0x1c3ad344cc0>"
      ]
     },
     "metadata": {},
     "output_type": "display_data"
    }
   ],
   "source": [
    "# sub_category feature distribution\n",
    "%matplotlib inline\n",
    "g1 = sns.countplot(x='sub_category', data=df_train)\n",
    "g1.set(xticklabels=[])\n",
    "g1.set(xlabel=\"sub_category\")\n",
    "df_train['sub_category'].value_counts().head(5)\n"
   ]
  },
  {
   "cell_type": "markdown",
   "metadata": {},
   "source": [
    "*4.Correlation sorted list between features*"
   ]
  },
  {
   "cell_type": "code",
   "execution_count": 133,
   "metadata": {
    "collapsed": true
   },
   "outputs": [],
   "source": [
    " # features-lables correlation: \n",
    "def corrank(X):\n",
    "    import itertools\n",
    "    dff = pd.DataFrame([[(i,j),X.corr().loc[i,j]] for i,j in list(itertools.combinations(X.corr(method = 'spearman'), 2))],columns=['pairs','corr'])    \n",
    "    pd.set_option('display.max_rows', 500)\n",
    "    pd.set_option('display.max_colwidth', 50)\n",
    "    print(dff.sort_values(by='corr',ascending=False))"
   ]
  },
  {
   "cell_type": "code",
   "execution_count": 134,
   "metadata": {},
   "outputs": [
    {
     "name": "stdout",
     "output_type": "stream",
     "text": [
      "                                                 pairs      corr\n",
      "383  (question_type_instructions, answer_type_instr...  0.769480\n",
      "430                 (answer_helpful, answer_plausible)  0.694601\n",
      "396   (question_type_procedure, answer_type_procedure)  0.614208\n",
      "432              (answer_helpful, answer_satisfaction)  0.613909\n",
      "450            (answer_relevance, answer_satisfaction)  0.593552\n",
      "408  (question_type_reason_explanation, answer_type...  0.588116\n",
      "189  (question_interestingness_others, question_int...  0.572152\n",
      "431                 (answer_helpful, answer_relevance)  0.511382\n",
      "439  (answer_level_of_information, answer_satisfact...  0.507305\n",
      "445            (answer_plausible, answer_satisfaction)  0.432297\n",
      "444               (answer_plausible, answer_relevance)  0.402147\n",
      "438    (answer_level_of_information, answer_relevance)  0.389050\n",
      "77     (question_body_critical, question_well_written)  0.388172\n",
      "224  (question_interestingness_self, question_well_...  0.370318\n",
      "429      (answer_helpful, answer_level_of_information)  0.348898\n",
      "94   (question_conversational, question_opinion_see...  0.329431\n",
      "115  (question_expect_short_answer, question_has_co...  0.326959\n",
      "236      (question_multi_intent, question_type_choice)  0.299661\n",
      "140  (question_fact_seeking, question_has_commonly_...  0.276906\n",
      "49   (question_asker_intent_understanding, question...  0.271778\n",
      "30   (question_asker_intent_understanding, question...  0.248283\n",
      "243  (question_multi_intent, question_type_reason_e...  0.238416\n",
      "454            (answer_relevance, answer_well_written)  0.237127\n",
      "36   (question_asker_intent_understanding, question...  0.235507\n",
      "437    (answer_level_of_information, answer_plausible)  0.234620\n",
      "458         (answer_satisfaction, answer_well_written)  0.229064\n",
      "436              (answer_helpful, answer_well_written)  0.227102\n",
      "63   (question_body_critical, question_interestingn...  0.210505\n",
      "91   (question_conversational, question_interesting...  0.201555\n",
      "253  (question_multi_intent, answer_type_reason_exp...  0.201272\n",
      "64   (question_body_critical, question_interestingn...  0.191975\n",
      "202  (question_interestingness_others, question_wel...  0.189953\n",
      "428       (question_well_written, answer_well_written)  0.188531\n",
      "185  (question_has_commonly_accepted_answer, answer...  0.186435\n",
      "175  (question_has_commonly_accepted_answer, questi...  0.185201\n",
      "449            (answer_plausible, answer_well_written)  0.181135\n",
      "152   (question_fact_seeking, question_type_procedure)  0.179541\n",
      "52   (question_asker_intent_understanding, answer_p...  0.173906\n",
      "218  (question_interestingness_self, question_type_...  0.165525\n",
      "310  (question_type_choice, answer_type_reason_expl...  0.162909\n",
      "90   (question_conversational, question_interesting...  0.157942\n",
      "162     (question_fact_seeking, answer_type_procedure)  0.154646\n",
      "104   (question_conversational, question_well_written)  0.153880\n",
      "50   (question_asker_intent_understanding, answer_h...  0.153192\n",
      "39   (question_asker_intent_understanding, question...  0.150614\n",
      "287       (question_opinion_seeking, answer_plausible)  0.145613\n",
      "290  (question_opinion_seeking, answer_type_instruc...  0.144475\n",
      "443  (answer_level_of_information, answer_well_writ...  0.143860\n",
      "280  (question_opinion_seeking, question_type_instr...  0.140045\n",
      "442  (answer_level_of_information, answer_type_reas...  0.136392\n",
      "59   (question_body_critical, question_conversational)  0.134744\n",
      "135  (question_expect_short_answer, answer_satisfac...  0.129107\n",
      "433         (answer_helpful, answer_type_instructions)  0.124258\n",
      "233  (question_interestingness_self, answer_well_wr...  0.120144\n",
      "32   (question_asker_intent_understanding, question...  0.115719\n",
      "293    (question_opinion_seeking, answer_well_written)  0.115669\n",
      "58   (question_asker_intent_understanding, answer_w...  0.115094\n",
      "374  (question_type_instructions, question_type_pro...  0.114206\n",
      "451       (answer_relevance, answer_type_instructions)  0.112976\n",
      "60   (question_body_critical, question_expect_short...  0.110006\n",
      "153  (question_fact_seeking, question_type_reason_e...  0.105222\n",
      "155     (question_fact_seeking, question_well_written)  0.103997\n",
      "72      (question_body_critical, question_type_entity)  0.103498\n",
      "285         (question_opinion_seeking, answer_helpful)  0.102620\n",
      "71   (question_body_critical, question_type_definit...  0.101371\n",
      "102  (question_conversational, question_type_reason...  0.097994\n",
      "132  (question_expect_short_answer, answer_level_of...  0.097480\n",
      "210  (question_interestingness_others, answer_type_...  0.097320\n",
      "184  (question_has_commonly_accepted_answer, answer...  0.097280\n",
      "69     (question_body_critical, question_type_compare)  0.096544\n",
      "237     (question_multi_intent, question_type_compare)  0.096012\n",
      "131     (question_expect_short_answer, answer_helpful)  0.095115\n",
      "149  (question_fact_seeking, question_type_definition)  0.094670\n",
      "455    (answer_satisfaction, answer_type_instructions)  0.094551\n",
      "112  (question_conversational, answer_type_reason_e...  0.094524\n",
      "302      (question_type_choice, question_well_written)  0.093368\n",
      "313  (question_type_compare, question_type_definition)  0.092919\n",
      "134   (question_expect_short_answer, answer_relevance)  0.090170\n",
      "217  (question_interestingness_self, question_type_...  0.089376\n",
      "125  (question_expect_short_answer, question_type_e...  0.089194\n",
      "143     (question_fact_seeking, question_multi_intent)  0.087934\n",
      "216  (question_interestingness_self, question_type_...  0.087214\n",
      "464  (answer_type_reason_explanation, answer_well_w...  0.085376\n",
      "54   (question_asker_intent_understanding, answer_s...  0.080308\n",
      "245     (question_multi_intent, question_well_written)  0.079219\n",
      "446       (answer_plausible, answer_type_instructions)  0.078966\n",
      "99     (question_conversational, question_type_entity)  0.078088\n",
      "335  (question_type_consequence, question_well_writ...  0.076143\n",
      "44   (question_asker_intent_understanding, question...  0.075871\n",
      "211  (question_interestingness_others, answer_well_...  0.075336\n",
      "79   (question_body_critical, answer_level_of_infor...  0.075048\n",
      "378       (question_type_instructions, answer_helpful)  0.073702\n",
      "395  (question_type_procedure, answer_type_instruct...  0.073174\n",
      "219  (question_interestingness_self, question_type_...  0.072568\n",
      "364      (question_type_entity, question_well_written)  0.072529\n",
      "350  (question_type_definition, question_well_written)  0.072269\n",
      "43   (question_asker_intent_understanding, question...  0.070423\n",
      "196  (question_interestingness_others, question_typ...  0.070093\n",
      "121  (question_expect_short_answer, question_type_c...  0.070003\n",
      "238  (question_multi_intent, question_type_conseque...  0.069949\n",
      "31   (question_asker_intent_understanding, question...  0.069147\n",
      "242   (question_multi_intent, question_type_procedure)  0.068625\n",
      "163  (question_fact_seeking, answer_type_reason_exp...  0.066530\n",
      "384  (question_type_instructions, answer_type_proce...  0.066272\n",
      "136  (question_expect_short_answer, answer_type_ins...  0.064498\n",
      "96    (question_conversational, question_type_compare)  0.064453\n",
      "427  (question_well_written, answer_type_reason_exp...  0.063427\n",
      "41   (question_asker_intent_understanding, question...  0.063040\n",
      "195  (question_interestingness_others, question_typ...  0.062768\n",
      "197  (question_interestingness_others, question_typ...  0.061899\n",
      "457  (answer_satisfaction, answer_type_reason_expla...  0.061761\n",
      "53   (question_asker_intent_understanding, answer_r...  0.061022\n",
      "319     (question_type_compare, question_well_written)  0.058706\n",
      "380     (question_type_instructions, answer_plausible)  0.058387\n",
      "327  (question_type_compare, answer_type_reason_exp...  0.056075\n",
      "435   (answer_helpful, answer_type_reason_explanation)  0.055914\n",
      "239  (question_multi_intent, question_type_definition)  0.054413\n",
      "343  (question_type_consequence, answer_type_reason...  0.054375\n",
      "232  (question_interestingness_self, answer_type_re...  0.053524\n",
      "183  (question_has_commonly_accepted_answer, answer...  0.051689\n",
      "240      (question_multi_intent, question_type_entity)  0.051511\n",
      "194  (question_interestingness_others, question_typ...  0.050471\n",
      "304  (question_type_choice, answer_level_of_informa...  0.049661\n",
      "180  (question_has_commonly_accepted_answer, answer...  0.049203\n",
      "133   (question_expect_short_answer, answer_plausible)  0.048566\n",
      "400  (question_type_reason_explanation, question_we...  0.048114\n",
      "113     (question_conversational, answer_well_written)  0.047198\n",
      "381     (question_type_instructions, answer_relevance)  0.046085\n",
      "311        (question_type_choice, answer_well_written)  0.045591\n",
      "190  (question_interestingness_others, question_mul...  0.045346\n",
      "448  (answer_plausible, answer_type_reason_explanat...  0.045103\n",
      "139  (question_expect_short_answer, answer_well_wri...  0.044827\n",
      "288       (question_opinion_seeking, answer_relevance)  0.043378\n",
      "252     (question_multi_intent, answer_type_procedure)  0.042438\n",
      "35   (question_asker_intent_understanding, question...  0.041985\n",
      "93   (question_conversational, question_not_really_...  0.041618\n",
      "441  (answer_level_of_information, answer_type_proc...  0.039860\n",
      "200  (question_interestingness_others, question_typ...  0.038951\n",
      "307        (question_type_choice, answer_satisfaction)  0.038099\n",
      "222  (question_interestingness_self, question_type_...  0.037530\n",
      "312  (question_type_compare, question_type_conseque...  0.037365\n",
      "51   (question_asker_intent_understanding, answer_l...  0.036220\n",
      "97   (question_conversational, question_type_conseq...  0.035872\n",
      "95     (question_conversational, question_type_choice)  0.035308\n",
      "276  (question_opinion_seeking, question_type_compare)  0.034905\n",
      "295  (question_type_choice, question_type_consequence)  0.034772\n",
      "212  (question_interestingness_self, question_multi...  0.034488\n",
      "126  (question_expect_short_answer, question_type_i...  0.034034\n",
      "124  (question_expect_short_answer, question_type_d...  0.033535\n",
      "204  (question_interestingness_others, answer_level...  0.032855\n",
      "48   (question_asker_intent_understanding, question...  0.032638\n",
      "358  (question_type_definition, answer_type_reason_...  0.032069\n",
      "412  (question_type_spelling, answer_level_of_infor...  0.032041\n",
      "42   (question_asker_intent_understanding, question...  0.031723\n",
      "86       (question_body_critical, answer_well_written)  0.031500\n",
      "349  (question_type_definition, question_type_spell...  0.029829\n",
      "215  (question_interestingness_self, question_type_...  0.029720\n",
      "426     (question_well_written, answer_type_procedure)  0.029655\n",
      "434            (answer_helpful, answer_type_procedure)  0.029195\n",
      "182  (question_has_commonly_accepted_answer, answer...  0.029065\n",
      "453  (answer_relevance, answer_type_reason_explanat...  0.028622\n",
      "389   (question_type_procedure, question_well_written)  0.028597\n",
      "68      (question_body_critical, question_type_choice)  0.028596\n",
      "227  (question_interestingness_self, answer_plausible)  0.028280\n",
      "223  (question_interestingness_self, question_type_...  0.028013\n",
      "301     (question_type_choice, question_type_spelling)  0.027043\n",
      "148  (question_fact_seeking, question_type_conseque...  0.025861\n",
      "214  (question_interestingness_self, question_opini...  0.025145\n",
      "40   (question_asker_intent_understanding, question...  0.024867\n",
      "300  (question_type_choice, question_type_reason_ex...  0.023954\n",
      "12                      (qa_id, question_type_compare)  0.023916\n",
      "352  (question_type_definition, answer_level_of_inf...  0.023899\n",
      "348  (question_type_definition, question_type_reaso...  0.023818\n",
      "306           (question_type_choice, answer_relevance)  0.022397\n",
      "419      (question_type_spelling, answer_well_written)  0.021812\n",
      "317  (question_type_compare, question_type_reason_e...  0.020968\n",
      "181  (question_has_commonly_accepted_answer, answer...  0.020669\n",
      "0         (qa_id, question_asker_intent_understanding)  0.019359\n",
      "193  (question_interestingness_others, question_typ...  0.018806\n",
      "154    (question_fact_seeking, question_type_spelling)  0.018349\n",
      "456       (answer_satisfaction, answer_type_procedure)  0.017515\n",
      "61     (question_body_critical, question_fact_seeking)  0.017156\n",
      "11                       (qa_id, question_type_choice)  0.016330\n",
      "340   (question_type_consequence, answer_satisfaction)  0.015596\n",
      "271  (question_not_really_a_question, answer_type_i...  0.015343\n",
      "328       (question_type_compare, answer_well_written)  0.015077\n",
      "366  (question_type_entity, answer_level_of_informa...  0.014837\n",
      "418  (question_type_spelling, answer_type_reason_ex...  0.014003\n",
      "244    (question_multi_intent, question_type_spelling)  0.013998\n",
      "22                (qa_id, answer_level_of_information)  0.013283\n",
      "333  (question_type_consequence, question_type_reas...  0.012765\n",
      "255  (question_not_really_a_question, question_opin...  0.012679\n",
      "14                   (qa_id, question_type_definition)  0.012574\n",
      "344   (question_type_consequence, answer_well_written)  0.012311\n",
      "382  (question_type_instructions, answer_satisfaction)  0.012183\n",
      "76    (question_body_critical, question_type_spelling)  0.011701\n",
      "129  (question_expect_short_answer, question_type_s...  0.011610\n",
      "274  (question_not_really_a_question, answer_well_w...  0.011294\n",
      "70   (question_body_critical, question_type_consequ...  0.010674\n",
      "303             (question_type_choice, answer_helpful)  0.010642\n",
      "305           (question_type_choice, answer_plausible)  0.010368\n",
      "106  (question_conversational, answer_level_of_info...  0.010218\n",
      "452          (answer_relevance, answer_type_procedure)  0.010033\n",
      "410    (question_type_spelling, question_well_written)  0.010017\n",
      "170  (question_has_commonly_accepted_answer, questi...  0.009936\n",
      "176  (question_has_commonly_accepted_answer, questi...  0.008852\n",
      "142  (question_fact_seeking, question_interestingne...  0.008593\n",
      "338      (question_type_consequence, answer_plausible)  0.008537\n",
      "345   (question_type_definition, question_type_entity)  0.008361\n",
      "339      (question_type_consequence, answer_relevance)  0.007889\n",
      "28             (qa_id, answer_type_reason_explanation)  0.007738\n",
      "92    (question_conversational, question_multi_intent)  0.007646\n",
      "29                        (qa_id, answer_well_written)  0.007136\n",
      "286  (question_opinion_seeking, answer_level_of_inf...  0.007134\n",
      "314      (question_type_compare, question_type_entity)  0.007021\n",
      "8                       (qa_id, question_multi_intent)  0.006898\n",
      "9              (qa_id, question_not_really_a_question)  0.006218\n",
      "447          (answer_plausible, answer_type_procedure)  0.006071\n",
      "178  (question_has_commonly_accepted_answer, questi...  0.006054\n",
      "201  (question_interestingness_others, question_typ...  0.005888\n",
      "294      (question_type_choice, question_type_compare)  0.005654\n",
      "23                           (qa_id, answer_plausible)  0.005485\n",
      "275   (question_opinion_seeking, question_type_choice)  0.005317\n",
      "254       (question_multi_intent, answer_well_written)  0.005128\n",
      "414         (question_type_spelling, answer_relevance)  0.004924\n",
      "85   (question_body_critical, answer_type_reason_ex...  0.004631\n",
      "277  (question_opinion_seeking, question_type_conse...  0.004503\n",
      "359    (question_type_definition, answer_well_written)  0.004371\n",
      "403  (question_type_reason_explanation, answer_plau...  0.004312\n",
      "98   (question_conversational, question_type_defini...  0.004224\n",
      "261  (question_not_really_a_question, question_type...  0.003859\n",
      "192  (question_interestingness_others, question_opi...  0.003753\n",
      "415      (question_type_spelling, answer_satisfaction)  0.003681\n",
      "213  (question_interestingness_self, question_not_r...  0.003517\n",
      "82       (question_body_critical, answer_satisfaction)  0.002452\n",
      "5       (qa_id, question_has_commonly_accepted_answer)  0.002098\n",
      "321  (question_type_compare, answer_level_of_inform...  0.001985\n",
      "25                        (qa_id, answer_satisfaction)  0.001981\n",
      "440  (answer_level_of_information, answer_type_inst...  0.001504\n",
      "1                      (qa_id, question_body_critical)  0.001215\n",
      "24                           (qa_id, answer_relevance)  0.000909\n",
      "4                       (qa_id, question_fact_seeking)  0.000677\n",
      "18           (qa_id, question_type_reason_explanation)  0.000634\n",
      "337  (question_type_consequence, answer_level_of_in...  0.000196\n",
      "273  (question_not_really_a_question, answer_type_r... -0.000347\n",
      "399  (question_type_reason_explanation, question_ty... -0.000901\n",
      "7               (qa_id, question_interestingness_self) -0.000935\n",
      "206  (question_interestingness_others, answer_relev... -0.001221\n",
      "373        (question_type_entity, answer_well_written) -0.001628\n",
      "289    (question_opinion_seeking, answer_satisfaction) -0.001670\n",
      "235  (question_multi_intent, question_opinion_seeking) -0.001806\n",
      "413         (question_type_spelling, answer_plausible) -0.002078\n",
      "267  (question_not_really_a_question, answer_level_... -0.002241\n",
      "411           (question_type_spelling, answer_helpful) -0.002409\n",
      "336        (question_type_consequence, answer_helpful) -0.002607\n",
      "3                (qa_id, question_expect_short_answer) -0.002734\n",
      "322          (question_type_compare, answer_plausible) -0.002832\n",
      "103  (question_conversational, question_type_spelling) -0.002833\n",
      "263  (question_not_really_a_question, question_type... -0.003355\n",
      "26                   (qa_id, answer_type_instructions) -0.003762\n",
      "264  (question_not_really_a_question, question_type... -0.003919\n",
      "20                      (qa_id, question_well_written) -0.004029\n",
      "318    (question_type_compare, question_type_spelling) -0.004159\n",
      "15                       (qa_id, question_type_entity) -0.004594\n",
      "146      (question_fact_seeking, question_type_choice) -0.004669\n",
      "2                     (qa_id, question_conversational) -0.004922\n",
      "421  (question_well_written, answer_level_of_inform... -0.005266\n",
      "334  (question_type_consequence, question_type_spel... -0.005427\n",
      "17                    (qa_id, question_type_procedure) -0.005470\n",
      "401  (question_type_reason_explanation, answer_help... -0.005570\n",
      "21                             (qa_id, answer_helpful) -0.005641\n",
      "191  (question_interestingness_others, question_not... -0.006038\n",
      "186  (question_has_commonly_accepted_answer, answer... -0.006229\n",
      "147     (question_fact_seeking, question_type_compare) -0.006419\n",
      "259  (question_not_really_a_question, question_type... -0.006569\n",
      "119  (question_expect_short_answer, question_not_re... -0.006587\n",
      "16                 (qa_id, question_type_instructions) -0.006742\n",
      "329  (question_type_consequence, question_type_defi... -0.006935\n",
      "402  (question_type_reason_explanation, answer_leve... -0.008727\n",
      "260  (question_not_really_a_question, question_type... -0.009493\n",
      "459  (answer_type_instructions, answer_type_procedure) -0.009874\n",
      "151  (question_fact_seeking, question_type_instruct... -0.010089\n",
      "266   (question_not_really_a_question, answer_helpful) -0.010764\n",
      "177  (question_has_commonly_accepted_answer, questi... -0.012456\n",
      "279   (question_opinion_seeking, question_type_entity) -0.012736\n",
      "258  (question_not_really_a_question, question_type... -0.013196\n",
      "363     (question_type_entity, question_type_spelling) -0.013254\n",
      "409  (question_type_reason_explanation, answer_well... -0.013672\n",
      "173  (question_has_commonly_accepted_answer, questi... -0.013680\n",
      "226  (question_interestingness_self, answer_level_o... -0.014285\n",
      "13                  (qa_id, question_type_consequence) -0.014432\n",
      "205  (question_interestingness_others, answer_plaus... -0.014504\n",
      "225    (question_interestingness_self, answer_helpful) -0.015698\n",
      "81          (question_body_critical, answer_relevance) -0.016369\n",
      "6             (qa_id, question_interestingness_others) -0.017004\n",
      "27                      (qa_id, answer_type_procedure) -0.017210\n",
      "262  (question_not_really_a_question, question_type... -0.017230\n",
      "270  (question_not_really_a_question, answer_satisf... -0.018078\n",
      "268  (question_not_really_a_question, answer_plausi... -0.018679\n",
      "150      (question_fact_seeking, question_type_entity) -0.019278\n",
      "417    (question_type_spelling, answer_type_procedure) -0.019286\n",
      "354       (question_type_definition, answer_relevance) -0.020606\n",
      "320            (question_type_compare, answer_helpful) -0.021100\n",
      "272  (question_not_really_a_question, answer_type_p... -0.021567\n",
      "330  (question_type_consequence, question_type_entity) -0.021882\n",
      "388  (question_type_procedure, question_type_spelling) -0.022446\n",
      "283  (question_opinion_seeking, question_type_spell... -0.022794\n",
      "323          (question_type_compare, answer_relevance) -0.023312\n",
      "187  (question_has_commonly_accepted_answer, answer... -0.023365\n",
      "108        (question_conversational, answer_relevance) -0.023719\n",
      "257  (question_not_really_a_question, question_type... -0.024234\n",
      "332  (question_type_consequence, question_type_proc... -0.026001\n",
      "19                     (qa_id, question_type_spelling) -0.026628\n",
      "371      (question_type_entity, answer_type_procedure) -0.026928\n",
      "10                   (qa_id, question_opinion_seeking) -0.027080\n",
      "207  (question_interestingness_others, answer_satis... -0.027452\n",
      "424       (question_well_written, answer_satisfaction) -0.028765\n",
      "107        (question_conversational, answer_plausible) -0.028974\n",
      "269  (question_not_really_a_question, answer_releva... -0.029404\n",
      "342  (question_type_consequence, answer_type_proced... -0.029970\n",
      "353       (question_type_definition, answer_plausible) -0.030369\n",
      "229  (question_interestingness_self, answer_satisfa... -0.030369\n",
      "404  (question_type_reason_explanation, answer_rele... -0.030415\n",
      "369        (question_type_entity, answer_satisfaction) -0.030448\n",
      "297       (question_type_choice, question_type_entity) -0.031789\n",
      "249          (question_multi_intent, answer_relevance) -0.032248\n",
      "405  (question_type_reason_explanation, answer_sati... -0.032371\n",
      "248          (question_multi_intent, answer_plausible) -0.033249\n",
      "228  (question_interestingness_self, answer_relevance) -0.033675\n",
      "168  (question_has_commonly_accepted_answer, questi... -0.033874\n",
      "109     (question_conversational, answer_satisfaction) -0.035357\n",
      "367           (question_type_entity, answer_plausible) -0.036138\n",
      "141  (question_fact_seeking, question_interestingne... -0.037801\n",
      "324       (question_type_compare, answer_satisfaction) -0.037987\n",
      "116  (question_expect_short_answer, question_intere... -0.038257\n",
      "461    (answer_type_instructions, answer_well_written) -0.038664\n",
      "355    (question_type_definition, answer_satisfaction) -0.038916\n",
      "172  (question_has_commonly_accepted_answer, questi... -0.039125\n",
      "351         (question_type_definition, answer_helpful) -0.039447\n",
      "296   (question_type_choice, question_type_definition) -0.039853\n",
      "281  (question_opinion_seeking, question_type_proce... -0.040443\n",
      "416  (question_type_spelling, answer_type_instructi... -0.041308\n",
      "105          (question_conversational, answer_helpful) -0.041928\n",
      "368           (question_type_entity, answer_relevance) -0.041997\n",
      "34   (question_asker_intent_understanding, question... -0.042387\n",
      "80          (question_body_critical, answer_plausible) -0.043678\n",
      "57   (question_asker_intent_understanding, answer_t... -0.044156\n",
      "422          (question_well_written, answer_plausible) -0.044432\n",
      "247  (question_multi_intent, answer_level_of_inform... -0.044616\n",
      "376  (question_type_instructions, question_type_spe... -0.045107\n",
      "365             (question_type_entity, answer_helpful) -0.045980\n",
      "256  (question_not_really_a_question, question_type... -0.046728\n",
      "203  (question_interestingness_others, answer_helpful) -0.046859\n",
      "386  (question_type_instructions, answer_well_written) -0.048238\n",
      "75   (question_body_critical, question_type_reason_... -0.048456\n",
      "326     (question_type_compare, answer_type_procedure) -0.048674\n",
      "47   (question_asker_intent_understanding, question... -0.048793\n",
      "292  (question_opinion_seeking, answer_type_reason_... -0.049365\n",
      "157  (question_fact_seeking, answer_level_of_inform... -0.049916\n",
      "392        (question_type_procedure, answer_plausible) -0.050050\n",
      "291  (question_opinion_seeking, answer_type_procedure) -0.051237\n",
      "463       (answer_type_procedure, answer_well_written) -0.051400\n",
      "372  (question_type_entity, answer_type_reason_expl... -0.051888\n",
      "66   (question_body_critical, question_not_really_a... -0.052097\n",
      "56   (question_asker_intent_understanding, answer_t... -0.052325\n",
      "390          (question_type_procedure, answer_helpful) -0.052359\n",
      "160       (question_fact_seeking, answer_satisfaction) -0.052860\n",
      "423          (question_well_written, answer_relevance) -0.053050\n",
      "246            (question_multi_intent, answer_helpful) -0.053220\n",
      "234  (question_multi_intent, question_not_really_a_... -0.053477\n",
      "62   (question_body_critical, question_has_commonly... -0.053809\n",
      "391  (question_type_procedure, answer_level_of_info... -0.053820\n",
      "394     (question_type_procedure, answer_satisfaction) -0.054775\n",
      "37   (question_asker_intent_understanding, question... -0.055113\n",
      "122  (question_expect_short_answer, question_type_c... -0.057037\n",
      "420            (question_well_written, answer_helpful) -0.057807\n",
      "161  (question_fact_seeking, answer_type_instructions) -0.057832\n",
      "120  (question_expect_short_answer, question_opinio... -0.057856\n",
      "282  (question_opinion_seeking, question_type_reaso... -0.059678\n",
      "309      (question_type_choice, answer_type_procedure) -0.059878\n",
      "407  (question_type_reason_explanation, answer_type... -0.060087\n",
      "45   (question_asker_intent_understanding, question... -0.060120\n",
      "38   (question_asker_intent_understanding, question... -0.060497\n",
      "284  (question_opinion_seeking, question_well_written) -0.061446\n",
      "265  (question_not_really_a_question, question_well... -0.062662\n",
      "199  (question_interestingness_others, question_typ... -0.065322\n",
      "78            (question_body_critical, answer_helpful) -0.067796\n",
      "84     (question_body_critical, answer_type_procedure) -0.069160\n",
      "55   (question_asker_intent_understanding, answer_t... -0.069215\n",
      "393        (question_type_procedure, answer_relevance) -0.070720\n",
      "138  (question_expect_short_answer, answer_type_rea... -0.071567\n",
      "144  (question_fact_seeking, question_not_really_a_... -0.072354\n",
      "123  (question_expect_short_answer, question_type_c... -0.072440\n",
      "379  (question_type_instructions, answer_level_of_i... -0.074294\n",
      "357  (question_type_definition, answer_type_procedure) -0.074862\n",
      "361    (question_type_entity, question_type_procedure) -0.075010\n",
      "462  (answer_type_procedure, answer_type_reason_exp... -0.077267\n",
      "316   (question_type_compare, question_type_procedure) -0.077803\n",
      "159          (question_fact_seeking, answer_relevance) -0.078836\n",
      "111   (question_conversational, answer_type_procedure) -0.084374\n",
      "67   (question_body_critical, question_opinion_seek... -0.084745\n",
      "397  (question_type_procedure, answer_type_reason_e... -0.086288\n",
      "167  (question_has_commonly_accepted_answer, questi... -0.086416\n",
      "188  (question_has_commonly_accepted_answer, answer... -0.086773\n",
      "171  (question_has_commonly_accepted_answer, questi... -0.087939\n",
      "101  (question_conversational, question_type_proced... -0.089342\n",
      "209  (question_interestingness_others, answer_type_... -0.090484\n",
      "114  (question_expect_short_answer, question_fact_s... -0.090800\n",
      "250       (question_multi_intent, answer_satisfaction) -0.091863\n",
      "341  (question_type_consequence, answer_type_instru... -0.092734\n",
      "87   (question_conversational, question_expect_shor... -0.092885\n",
      "231  (question_interestingness_self, answer_type_pr... -0.095363\n",
      "347  (question_type_definition, question_type_proce... -0.098153\n",
      "74   (question_body_critical, question_type_procedure) -0.098232\n",
      "398     (question_type_procedure, answer_well_written) -0.099083\n",
      "221  (question_interestingness_self, question_type_... -0.099135\n",
      "46   (question_asker_intent_understanding, question... -0.100908\n",
      "331  (question_type_consequence, question_type_inst... -0.106743\n",
      "299    (question_type_choice, question_type_procedure) -0.108087\n",
      "387  (question_type_procedure, question_type_reason... -0.111006\n",
      "156            (question_fact_seeking, answer_helpful) -0.113108\n",
      "241  (question_multi_intent, question_type_instruct... -0.118915\n",
      "33   (question_asker_intent_understanding, question... -0.119989\n",
      "278  (question_opinion_seeking, question_type_defin... -0.120269\n",
      "130  (question_expect_short_answer, question_well_w... -0.123483\n",
      "158          (question_fact_seeking, answer_plausible) -0.125093\n",
      "362  (question_type_entity, question_type_reason_ex... -0.125689\n",
      "174  (question_has_commonly_accepted_answer, questi... -0.125892\n",
      "128  (question_expect_short_answer, question_type_r... -0.130128\n",
      "65     (question_body_critical, question_multi_intent) -0.130574\n",
      "164       (question_fact_seeking, answer_well_written) -0.145880\n",
      "251  (question_multi_intent, answer_type_instructions) -0.147953\n",
      "117  (question_expect_short_answer, question_intere... -0.160279\n",
      "208  (question_interestingness_others, answer_type_... -0.163019\n",
      "165  (question_has_commonly_accepted_answer, questi... -0.180362\n",
      "137  (question_expect_short_answer, answer_type_pro... -0.180461\n",
      "370   (question_type_entity, answer_type_instructions) -0.182513\n",
      "198  (question_interestingness_others, question_typ... -0.183283\n",
      "325  (question_type_compare, answer_type_instructions) -0.194012\n",
      "360  (question_type_entity, question_type_instructi... -0.199611\n",
      "83   (question_body_critical, answer_type_instructi... -0.213847\n",
      "315  (question_type_compare, question_type_instruct... -0.213917\n",
      "73   (question_body_critical, question_type_instruc... -0.215341\n",
      "356  (question_type_definition, answer_type_instruc... -0.216205\n",
      "308   (question_type_choice, answer_type_instructions) -0.223194\n",
      "127  (question_expect_short_answer, question_type_p... -0.226940\n",
      "346  (question_type_definition, question_type_instr... -0.227629\n",
      "230  (question_interestingness_self, answer_type_in... -0.227690\n",
      "118  (question_expect_short_answer, question_multi_... -0.227785\n",
      "220  (question_interestingness_self, question_type_... -0.231002\n",
      "110  (question_conversational, answer_type_instruct... -0.242021\n",
      "377  (question_type_instructions, question_well_wri... -0.242806\n",
      "179  (question_has_commonly_accepted_answer, questi... -0.246961\n",
      "425  (question_well_written, answer_type_instructions) -0.261113\n",
      "298  (question_type_choice, question_type_instructi... -0.272828\n",
      "100  (question_conversational, question_type_instru... -0.275345\n",
      "406  (question_type_reason_explanation, answer_type... -0.339298\n",
      "166  (question_has_commonly_accepted_answer, questi... -0.342036\n",
      "169  (question_has_commonly_accepted_answer, questi... -0.367232\n",
      "375  (question_type_instructions, question_type_rea... -0.395171\n",
      "385  (question_type_instructions, answer_type_reaso... -0.402655\n",
      "89   (question_conversational, question_has_commonl... -0.407895\n",
      "88    (question_conversational, question_fact_seeking) -0.412059\n",
      "460  (answer_type_instructions, answer_type_reason_... -0.475390\n",
      "145  (question_fact_seeking, question_opinion_seeking) -0.686496\n"
     ]
    }
   ],
   "source": [
    "pd = corrank(df_train)"
   ]
  },
  {
   "cell_type": "markdown",
   "metadata": {},
   "source": [
    "# Break point!"
   ]
  },
  {
   "cell_type": "markdown",
   "metadata": {},
   "source": [
    "### at this point we have two options:\n",
    "  #### 1. use pre-prepared train and test data after appending three new features:\n",
    "    a. q_class - classification of the question by Coarse classes\n",
    "    b. q_keywords - question's main keywards \n",
    "    c. query - question_title grammer features\n",
    "  #### 2. uncomment the following lines to generate the new features using external NLP Adam_Qas model"
   ]
  },
  {
   "cell_type": "code",
   "execution_count": 135,
   "metadata": {
    "collapsed": true,
    "scrolled": true
   },
   "outputs": [],
   "source": [
    "#from adam_qas import adam_script as adam\n",
    "#dfOut = pd.DataFrame(np.array([[\"\",\"\",\"\"]]))\n",
    "#dfOut.columns = [\"q_class\",\"q_keywords\",\"query\"]\n",
    "#dfOut = dfOut[:-1]\n",
    "\n",
    "#new_features = adam.activate(df_train['question_title'], dfOut)\n",
    "#print(new_features)\n",
    "\n",
    "#df_new_train=pd.concat([df_train,new_features], axis=1, sort=False)\n",
    "#df_new_test=pd.concat([df_test,new_features], axis=1, sort=False)\n",
    "\n",
    "#df_new_train.to_csv(PATH+'df_new_train.csv', index=False, encoding = \"ISO-8859-1\")\n",
    "#df_new_test.to_csv(PATH+'df_new_test.csv', index=False, encoding = \"ISO-8859-1\")"
   ]
  },
  {
   "cell_type": "code",
   "execution_count": 136,
   "metadata": {},
   "outputs": [
    {
     "ename": "AttributeError",
     "evalue": "'NoneType' object has no attribute 'read_csv'",
     "output_type": "error",
     "traceback": [
      "\u001b[1;31m---------------------------------------------------------------------------\u001b[0m",
      "\u001b[1;31mAttributeError\u001b[0m                            Traceback (most recent call last)",
      "\u001b[1;32m<ipython-input-136-3ad009153d15>\u001b[0m in \u001b[0;36m<module>\u001b[1;34m()\u001b[0m\n\u001b[1;32m----> 1\u001b[1;33m \u001b[0mdf_test\u001b[0m \u001b[1;33m=\u001b[0m \u001b[0mpd\u001b[0m\u001b[1;33m.\u001b[0m\u001b[0mread_csv\u001b[0m\u001b[1;33m(\u001b[0m\u001b[0mPATH\u001b[0m\u001b[1;33m+\u001b[0m\u001b[1;34m'df_new_test.csv'\u001b[0m\u001b[1;33m,\u001b[0m \u001b[0mencoding\u001b[0m \u001b[1;33m=\u001b[0m \u001b[1;34m\"ISO-8859-1\"\u001b[0m\u001b[1;33m)\u001b[0m\u001b[1;33m\u001b[0m\u001b[0m\n\u001b[0m\u001b[0;32m      2\u001b[0m \u001b[0mdf_train\u001b[0m \u001b[1;33m=\u001b[0m \u001b[0mpd\u001b[0m\u001b[1;33m.\u001b[0m\u001b[0mread_csv\u001b[0m\u001b[1;33m(\u001b[0m\u001b[0mPATH\u001b[0m\u001b[1;33m+\u001b[0m\u001b[1;34m'df_new_train.csv'\u001b[0m\u001b[1;33m,\u001b[0m \u001b[0mencoding\u001b[0m \u001b[1;33m=\u001b[0m \u001b[1;34m\"ISO-8859-1\"\u001b[0m\u001b[1;33m)\u001b[0m\u001b[1;33m\u001b[0m\u001b[0m\n",
      "\u001b[1;31mAttributeError\u001b[0m: 'NoneType' object has no attribute 'read_csv'"
     ]
    }
   ],
   "source": [
    "df_test = pd.read_csv(PATH+'df_new_test.csv', encoding = \"ISO-8859-1\")\n",
    "df_train = pd.read_csv(PATH+'df_new_train.csv', encoding = \"ISO-8859-1\")"
   ]
  },
  {
   "cell_type": "markdown",
   "metadata": {},
   "source": [
    "#### q_class analysis:"
   ]
  },
  {
   "cell_type": "code",
   "execution_count": null,
   "metadata": {},
   "outputs": [],
   "source": [
    "# Category feature distribution\n",
    "%matplotlib inline\n",
    "sns.set(font_scale=1)\n",
    "sns.countplot(x='q_class', data=df_train)"
   ]
  },
  {
   "cell_type": "markdown",
   "metadata": {},
   "source": [
    "# Model preparation\n",
    "### Input\\Output features selection"
   ]
  },
  {
   "cell_type": "code",
   "execution_count": null,
   "metadata": {
    "scrolled": true
   },
   "outputs": [],
   "source": [
    "# defining input\\output categories\n",
    "output_categories = list(df_train.columns[11:41])\n",
    "input_categories = list(df_train.columns[[1,2,5,10,41,42,43]])\n",
    "print('\\ninput categories:\\n\\t', input_categories)\n",
    "print('\\noutput categories:\\n\\t', output_categories)"
   ]
  },
  {
   "cell_type": "code",
   "execution_count": null,
   "metadata": {
    "collapsed": true
   },
   "outputs": [],
   "source": [
    "# difining 10 Folds cross-validation\n",
    "gkf = GroupKFold(n_splits=10).split(X=df_train.question_body, groups=df_train.question_body)"
   ]
  },
  {
   "cell_type": "code",
   "execution_count": 21,
   "metadata": {},
   "outputs": [
    {
     "data": {
      "application/vnd.jupyter.widget-view+json": {
       "model_id": "3c8066eb8a144bef8e8147f6aa0f047b"
      }
     },
     "metadata": {},
     "output_type": "display_data"
    },
    {
     "name": "stdout",
     "output_type": "stream",
     "text": [
      "\n"
     ]
    },
    {
     "data": {
      "application/vnd.jupyter.widget-view+json": {
       "model_id": "42ff96c9023e440286f98e72e91dbc58"
      }
     },
     "metadata": {},
     "output_type": "display_data"
    },
    {
     "name": "stdout",
     "output_type": "stream",
     "text": [
      "\n"
     ]
    }
   ],
   "source": [
    "# creating input\\output and test tensors\n",
    "outputs = modBert.compute_output_arrays(df_train, output_categories)\n",
    "inputs = modBert.compute_input_arays(df_train, input_categories, tokenizer, MAX_SEQUENCE_LENGTH)\n",
    "test_inputs = modBert.compute_input_arays(df_test, input_categories, tokenizer, MAX_SEQUENCE_LENGTH)"
   ]
  },
  {
   "cell_type": "markdown",
   "metadata": {},
   "source": [
    "### Train procces"
   ]
  },
  {
   "cell_type": "code",
   "execution_count": null,
   "metadata": {},
   "outputs": [
    {
     "name": "stdout",
     "output_type": "stream",
     "text": [
      "WARNING:tensorflow:From C:\\Users\\elirane\\Anaconda3\\lib\\site-packages\\tensorflow_core\\python\\ops\\resource_variable_ops.py:1781: calling BaseResourceVariable.__init__ (from tensorflow.python.ops.resource_variable_ops) with constraint is deprecated and will be removed in a future version.\n",
      "Instructions for updating:\n",
      "If using Keras pass *_constraint arguments to layers.\n",
      "WARNING:tensorflow:From C:\\Users\\elirane\\Anaconda3\\lib\\site-packages\\tensorflow_core\\python\\ops\\nn_impl.py:183: where (from tensorflow.python.ops.array_ops) is deprecated and will be removed in a future version.\n",
      "Instructions for updating:\n",
      "Use tf.where in 2.0, which has the same broadcast rule as np.where\n",
      "Train on 9 samples\n",
      "Epoch 1/5\n"
     ]
    },
    {
     "ename": "KeyboardInterrupt",
     "evalue": "",
     "output_type": "error",
     "traceback": [
      "\u001b[1;31m---------------------------------------------------------------------------\u001b[0m",
      "\u001b[1;31mKeyboardInterrupt\u001b[0m                         Traceback (most recent call last)",
      "\u001b[1;32m<ipython-input-23-3b7f668e4187>\u001b[0m in \u001b[0;36m<module>\u001b[1;34m()\u001b[0m\n\u001b[0;32m     20\u001b[0m                           \u001b[0mtest_data\u001b[0m\u001b[1;33m=\u001b[0m\u001b[0mtest_inputs\u001b[0m\u001b[1;33m,\u001b[0m\u001b[1;33m\u001b[0m\u001b[0m\n\u001b[0;32m     21\u001b[0m                           \u001b[0mlearning_rate\u001b[0m\u001b[1;33m=\u001b[0m\u001b[1;36m3e-5\u001b[0m\u001b[1;33m,\u001b[0m \u001b[0mepochs\u001b[0m\u001b[1;33m=\u001b[0m\u001b[1;36m5\u001b[0m\u001b[1;33m,\u001b[0m \u001b[0mbatch_size\u001b[0m\u001b[1;33m=\u001b[0m\u001b[1;36m8\u001b[0m\u001b[1;33m,\u001b[0m\u001b[1;33m\u001b[0m\u001b[0m\n\u001b[1;32m---> 22\u001b[1;33m                           loss_function='binary_crossentropy', fold=fold)\n\u001b[0m\u001b[0;32m     23\u001b[0m \u001b[1;33m\u001b[0m\u001b[0m\n\u001b[0;32m     24\u001b[0m         \u001b[0mhistories\u001b[0m\u001b[1;33m.\u001b[0m\u001b[0mappend\u001b[0m\u001b[1;33m(\u001b[0m\u001b[0mhistory\u001b[0m\u001b[1;33m)\u001b[0m\u001b[1;33m\u001b[0m\u001b[0m\n",
      "\u001b[1;32mC:\\Users\\elirane\\Documents\\googleQ\\GoogleQuestPJ\\amen_script.py\u001b[0m in \u001b[0;36mtrain_and_predict\u001b[1;34m(model, train_data, valid_data, test_data, learning_rate, epochs, batch_size, loss_function, fold)\u001b[0m\n\u001b[0;32m    230\u001b[0m     \u001b[0mmodel\u001b[0m\u001b[1;33m.\u001b[0m\u001b[0mcompile\u001b[0m\u001b[1;33m(\u001b[0m\u001b[0mloss\u001b[0m\u001b[1;33m=\u001b[0m\u001b[0mloss_function\u001b[0m\u001b[1;33m,\u001b[0m \u001b[0moptimizer\u001b[0m\u001b[1;33m=\u001b[0m\u001b[0moptimizer\u001b[0m\u001b[1;33m)\u001b[0m\u001b[1;33m\u001b[0m\u001b[0m\n\u001b[0;32m    231\u001b[0m     model.fit(train_data[0], train_data[1], epochs=epochs, \n\u001b[1;32m--> 232\u001b[1;33m               batch_size=batch_size, callbacks=[custom_callback])\n\u001b[0m\u001b[0;32m    233\u001b[0m \u001b[1;33m\u001b[0m\u001b[0m\n\u001b[0;32m    234\u001b[0m     \u001b[1;32mreturn\u001b[0m \u001b[0mcustom_callback\u001b[0m\u001b[1;33m\u001b[0m\u001b[0m\n",
      "\u001b[1;32mC:\\Users\\elirane\\Anaconda3\\lib\\site-packages\\tensorflow_core\\python\\keras\\engine\\training.py\u001b[0m in \u001b[0;36mfit\u001b[1;34m(self, x, y, batch_size, epochs, verbose, callbacks, validation_split, validation_data, shuffle, class_weight, sample_weight, initial_epoch, steps_per_epoch, validation_steps, validation_freq, max_queue_size, workers, use_multiprocessing, **kwargs)\u001b[0m\n\u001b[0;32m    725\u001b[0m         \u001b[0mmax_queue_size\u001b[0m\u001b[1;33m=\u001b[0m\u001b[0mmax_queue_size\u001b[0m\u001b[1;33m,\u001b[0m\u001b[1;33m\u001b[0m\u001b[0m\n\u001b[0;32m    726\u001b[0m         \u001b[0mworkers\u001b[0m\u001b[1;33m=\u001b[0m\u001b[0mworkers\u001b[0m\u001b[1;33m,\u001b[0m\u001b[1;33m\u001b[0m\u001b[0m\n\u001b[1;32m--> 727\u001b[1;33m         use_multiprocessing=use_multiprocessing)\n\u001b[0m\u001b[0;32m    728\u001b[0m \u001b[1;33m\u001b[0m\u001b[0m\n\u001b[0;32m    729\u001b[0m   def evaluate(self,\n",
      "\u001b[1;32mC:\\Users\\elirane\\Anaconda3\\lib\\site-packages\\tensorflow_core\\python\\keras\\engine\\training_arrays.py\u001b[0m in \u001b[0;36mfit\u001b[1;34m(self, model, x, y, batch_size, epochs, verbose, callbacks, validation_split, validation_data, shuffle, class_weight, sample_weight, initial_epoch, steps_per_epoch, validation_steps, validation_freq, **kwargs)\u001b[0m\n\u001b[0;32m    673\u001b[0m         \u001b[0mvalidation_steps\u001b[0m\u001b[1;33m=\u001b[0m\u001b[0mvalidation_steps\u001b[0m\u001b[1;33m,\u001b[0m\u001b[1;33m\u001b[0m\u001b[0m\n\u001b[0;32m    674\u001b[0m         \u001b[0mvalidation_freq\u001b[0m\u001b[1;33m=\u001b[0m\u001b[0mvalidation_freq\u001b[0m\u001b[1;33m,\u001b[0m\u001b[1;33m\u001b[0m\u001b[0m\n\u001b[1;32m--> 675\u001b[1;33m         steps_name='steps_per_epoch')\n\u001b[0m\u001b[0;32m    676\u001b[0m \u001b[1;33m\u001b[0m\u001b[0m\n\u001b[0;32m    677\u001b[0m   def evaluate(self,\n",
      "\u001b[1;32mC:\\Users\\elirane\\Anaconda3\\lib\\site-packages\\tensorflow_core\\python\\keras\\engine\\training_arrays.py\u001b[0m in \u001b[0;36mmodel_iteration\u001b[1;34m(model, inputs, targets, sample_weights, batch_size, epochs, verbose, callbacks, val_inputs, val_targets, val_sample_weights, shuffle, initial_epoch, steps_per_epoch, validation_steps, validation_freq, mode, validation_in_fit, prepared_feed_values_from_dataset, steps_name, **kwargs)\u001b[0m\n\u001b[0;32m    392\u001b[0m \u001b[1;33m\u001b[0m\u001b[0m\n\u001b[0;32m    393\u001b[0m         \u001b[1;31m# Get outputs.\u001b[0m\u001b[1;33m\u001b[0m\u001b[1;33m\u001b[0m\u001b[0m\n\u001b[1;32m--> 394\u001b[1;33m         \u001b[0mbatch_outs\u001b[0m \u001b[1;33m=\u001b[0m \u001b[0mf\u001b[0m\u001b[1;33m(\u001b[0m\u001b[0mins_batch\u001b[0m\u001b[1;33m)\u001b[0m\u001b[1;33m\u001b[0m\u001b[0m\n\u001b[0m\u001b[0;32m    395\u001b[0m         \u001b[1;32mif\u001b[0m \u001b[1;32mnot\u001b[0m \u001b[0misinstance\u001b[0m\u001b[1;33m(\u001b[0m\u001b[0mbatch_outs\u001b[0m\u001b[1;33m,\u001b[0m \u001b[0mlist\u001b[0m\u001b[1;33m)\u001b[0m\u001b[1;33m:\u001b[0m\u001b[1;33m\u001b[0m\u001b[0m\n\u001b[0;32m    396\u001b[0m           \u001b[0mbatch_outs\u001b[0m \u001b[1;33m=\u001b[0m \u001b[1;33m[\u001b[0m\u001b[0mbatch_outs\u001b[0m\u001b[1;33m]\u001b[0m\u001b[1;33m\u001b[0m\u001b[0m\n",
      "\u001b[1;32mC:\\Users\\elirane\\Anaconda3\\lib\\site-packages\\tensorflow_core\\python\\keras\\backend.py\u001b[0m in \u001b[0;36m__call__\u001b[1;34m(self, inputs)\u001b[0m\n\u001b[0;32m   3471\u001b[0m         \u001b[0mfeed_symbols\u001b[0m \u001b[1;33m!=\u001b[0m \u001b[0mself\u001b[0m\u001b[1;33m.\u001b[0m\u001b[0m_feed_symbols\u001b[0m \u001b[1;32mor\u001b[0m \u001b[0mself\u001b[0m\u001b[1;33m.\u001b[0m\u001b[0mfetches\u001b[0m \u001b[1;33m!=\u001b[0m \u001b[0mself\u001b[0m\u001b[1;33m.\u001b[0m\u001b[0m_fetches\u001b[0m \u001b[1;32mor\u001b[0m\u001b[1;33m\u001b[0m\u001b[0m\n\u001b[0;32m   3472\u001b[0m         session != self._session):\n\u001b[1;32m-> 3473\u001b[1;33m       \u001b[0mself\u001b[0m\u001b[1;33m.\u001b[0m\u001b[0m_make_callable\u001b[0m\u001b[1;33m(\u001b[0m\u001b[0mfeed_arrays\u001b[0m\u001b[1;33m,\u001b[0m \u001b[0mfeed_symbols\u001b[0m\u001b[1;33m,\u001b[0m \u001b[0msymbol_vals\u001b[0m\u001b[1;33m,\u001b[0m \u001b[0msession\u001b[0m\u001b[1;33m)\u001b[0m\u001b[1;33m\u001b[0m\u001b[0m\n\u001b[0m\u001b[0;32m   3474\u001b[0m \u001b[1;33m\u001b[0m\u001b[0m\n\u001b[0;32m   3475\u001b[0m     fetched = self._callable_fn(*array_vals,\n",
      "\u001b[1;32mC:\\Users\\elirane\\Anaconda3\\lib\\site-packages\\tensorflow_core\\python\\keras\\backend.py\u001b[0m in \u001b[0;36m_make_callable\u001b[1;34m(self, feed_arrays, feed_symbols, symbol_vals, session)\u001b[0m\n\u001b[0;32m   3408\u001b[0m       \u001b[0mcallable_opts\u001b[0m\u001b[1;33m.\u001b[0m\u001b[0mrun_options\u001b[0m\u001b[1;33m.\u001b[0m\u001b[0mCopyFrom\u001b[0m\u001b[1;33m(\u001b[0m\u001b[0mself\u001b[0m\u001b[1;33m.\u001b[0m\u001b[0mrun_options\u001b[0m\u001b[1;33m)\u001b[0m\u001b[1;33m\u001b[0m\u001b[0m\n\u001b[0;32m   3409\u001b[0m     \u001b[1;31m# Create callable.\u001b[0m\u001b[1;33m\u001b[0m\u001b[1;33m\u001b[0m\u001b[0m\n\u001b[1;32m-> 3410\u001b[1;33m     \u001b[0mcallable_fn\u001b[0m \u001b[1;33m=\u001b[0m \u001b[0msession\u001b[0m\u001b[1;33m.\u001b[0m\u001b[0m_make_callable_from_options\u001b[0m\u001b[1;33m(\u001b[0m\u001b[0mcallable_opts\u001b[0m\u001b[1;33m)\u001b[0m\u001b[1;33m\u001b[0m\u001b[0m\n\u001b[0m\u001b[0;32m   3411\u001b[0m     \u001b[1;31m# Cache parameters corresponding to the generated callable, so that\u001b[0m\u001b[1;33m\u001b[0m\u001b[1;33m\u001b[0m\u001b[0m\n\u001b[0;32m   3412\u001b[0m     \u001b[1;31m# we can detect future mismatches and refresh the callable.\u001b[0m\u001b[1;33m\u001b[0m\u001b[1;33m\u001b[0m\u001b[0m\n",
      "\u001b[1;32mC:\\Users\\elirane\\Anaconda3\\lib\\site-packages\\tensorflow_core\\python\\client\\session.py\u001b[0m in \u001b[0;36m_make_callable_from_options\u001b[1;34m(self, callable_options)\u001b[0m\n\u001b[0;32m   1503\u001b[0m     \"\"\"\n\u001b[0;32m   1504\u001b[0m     \u001b[0mself\u001b[0m\u001b[1;33m.\u001b[0m\u001b[0m_extend_graph\u001b[0m\u001b[1;33m(\u001b[0m\u001b[1;33m)\u001b[0m\u001b[1;33m\u001b[0m\u001b[0m\n\u001b[1;32m-> 1505\u001b[1;33m     \u001b[1;32mreturn\u001b[0m \u001b[0mBaseSession\u001b[0m\u001b[1;33m.\u001b[0m\u001b[0m_Callable\u001b[0m\u001b[1;33m(\u001b[0m\u001b[0mself\u001b[0m\u001b[1;33m,\u001b[0m \u001b[0mcallable_options\u001b[0m\u001b[1;33m)\u001b[0m\u001b[1;33m\u001b[0m\u001b[0m\n\u001b[0m\u001b[0;32m   1506\u001b[0m \u001b[1;33m\u001b[0m\u001b[0m\n\u001b[0;32m   1507\u001b[0m \u001b[1;33m\u001b[0m\u001b[0m\n",
      "\u001b[1;32mC:\\Users\\elirane\\Anaconda3\\lib\\site-packages\\tensorflow_core\\python\\client\\session.py\u001b[0m in \u001b[0;36m__init__\u001b[1;34m(self, session, callable_options)\u001b[0m\n\u001b[0;32m   1458\u001b[0m       \u001b[1;32mtry\u001b[0m\u001b[1;33m:\u001b[0m\u001b[1;33m\u001b[0m\u001b[0m\n\u001b[0;32m   1459\u001b[0m         self._handle = tf_session.TF_SessionMakeCallable(\n\u001b[1;32m-> 1460\u001b[1;33m             session._session, options_ptr)\n\u001b[0m\u001b[0;32m   1461\u001b[0m       \u001b[1;32mfinally\u001b[0m\u001b[1;33m:\u001b[0m\u001b[1;33m\u001b[0m\u001b[0m\n\u001b[0;32m   1462\u001b[0m         \u001b[0mtf_session\u001b[0m\u001b[1;33m.\u001b[0m\u001b[0mTF_DeleteBuffer\u001b[0m\u001b[1;33m(\u001b[0m\u001b[0moptions_ptr\u001b[0m\u001b[1;33m)\u001b[0m\u001b[1;33m\u001b[0m\u001b[0m\n",
      "\u001b[1;31mKeyboardInterrupt\u001b[0m: "
     ]
    }
   ],
   "source": [
    "histories = []\n",
    "for fold, (train_idx, valid_idx) in enumerate(gkf):\n",
    "    \n",
    "    # will actually only do 3 folds (out of 5) to manage < 2h\n",
    "    if fold < 3:\n",
    "        K.clear_session()\n",
    "        model = modBert.bert_model()\n",
    "\n",
    "        train_inputs = [inputs[i][train_idx] for i in range(3)]\n",
    "        train_outputs = outputs[train_idx]\n",
    "\n",
    "        valid_inputs = [inputs[i][valid_idx] for i in range(3)]\n",
    "        valid_outputs = outputs[valid_idx]\n",
    "\n",
    "        # history contains two lists of valid and test preds respectively:\n",
    "        #  [valid_predictions_{fold}, test_predictions_{fold}]\n",
    "        history = modBert.train_and_predict(model, \n",
    "                          train_data=(train_inputs, train_outputs), \n",
    "                          valid_data=(valid_inputs, valid_outputs),\n",
    "                          test_data=test_inputs, \n",
    "                          learning_rate=3e-5, epochs=5, batch_size=8,\n",
    "                          loss_function='binary_crossentropy', fold=fold)\n",
    "\n",
    "        histories.append(history)"
   ]
  },
  {
   "cell_type": "code",
   "execution_count": null,
   "metadata": {
    "collapsed": true
   },
   "outputs": [],
   "source": [
    "מה קורה פה?\n",
    "כאן אמורים להחזיר את התוצר לתחרות?\n",
    "\n",
    "# test_predictions = [histories[i].test_predictions for i in range(len(histories))]\n",
    "# test_predictions = [np.average(test_predictions[i], axis=0) for i in range(len(test_predictions))]\n",
    "# test_predictions = np.mean(test_predictions, axis=0)\n",
    "\n",
    "# df_sub =df_sub.assign(results = test_predictions)\n",
    "# print(df_sub)\n",
    "# df_sub.to_csv('submission.csv', index=False)"
   ]
  }
 ],
 "metadata": {
  "kernelspec": {
   "display_name": "Python 3",
   "language": "python",
   "name": "python3"
  },
  "language_info": {
   "codemirror_mode": {
    "name": "ipython",
    "version": 3
   },
   "file_extension": ".py",
   "mimetype": "text/x-python",
   "name": "python",
   "nbconvert_exporter": "python",
   "pygments_lexer": "ipython3",
   "version": "3.6.1"
  }
 },
 "nbformat": 4,
 "nbformat_minor": 1
}
